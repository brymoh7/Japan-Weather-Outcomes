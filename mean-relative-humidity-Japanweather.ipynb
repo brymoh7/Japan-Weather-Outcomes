{
 "cells": [
  {
   "cell_type": "code",
   "execution_count": 1,
   "metadata": {},
   "outputs": [],
   "source": [
    "import numpy as np\n",
    "import pandas as pd\n",
    "import matplotlib.pyplot as plt\n",
    "from sklearn.linear_model import LinearRegression\n",
    "import statsmodels.api as sm"
   ]
  },
  {
   "cell_type": "code",
   "execution_count": 2,
   "metadata": {},
   "outputs": [],
   "source": [
    "# Importing the dataset\n",
    "dataset = pd.read_csv('mean-relative-humidity-Japanweather1.csv')"
   ]
  },
  {
   "cell_type": "code",
   "execution_count": 4,
   "metadata": {},
   "outputs": [
    {
     "data": {
      "text/html": [
       "<div>\n",
       "<style scoped>\n",
       "    .dataframe tbody tr th:only-of-type {\n",
       "        vertical-align: middle;\n",
       "    }\n",
       "\n",
       "    .dataframe tbody tr th {\n",
       "        vertical-align: top;\n",
       "    }\n",
       "\n",
       "    .dataframe thead th {\n",
       "        text-align: right;\n",
       "    }\n",
       "</style>\n",
       "<table border=\"1\" class=\"dataframe\">\n",
       "  <thead>\n",
       "    <tr style=\"text-align: right;\">\n",
       "      <th></th>\n",
       "      <th>year</th>\n",
       "      <th>total_precipitation</th>\n",
       "      <th>mean_air_temperature</th>\n",
       "      <th>mean_wind_speed</th>\n",
       "      <th>percentage_possible_sunshine</th>\n",
       "      <th>total_sunshine_duration</th>\n",
       "      <th>solar_radiation</th>\n",
       "      <th>mean_relative_humidity</th>\n",
       "    </tr>\n",
       "  </thead>\n",
       "  <tbody>\n",
       "    <tr>\n",
       "      <th>0</th>\n",
       "      <td>Jan-10</td>\n",
       "      <td>75.5</td>\n",
       "      <td>-3.4</td>\n",
       "      <td>5.5</td>\n",
       "      <td>14</td>\n",
       "      <td>40.4</td>\n",
       "      <td>8.1</td>\n",
       "      <td>75</td>\n",
       "    </tr>\n",
       "    <tr>\n",
       "      <th>1</th>\n",
       "      <td>Feb-10</td>\n",
       "      <td>109.5</td>\n",
       "      <td>-4.9</td>\n",
       "      <td>4.1</td>\n",
       "      <td>17</td>\n",
       "      <td>48.8</td>\n",
       "      <td>9.1</td>\n",
       "      <td>74</td>\n",
       "    </tr>\n",
       "    <tr>\n",
       "      <th>2</th>\n",
       "      <td>Mar-10</td>\n",
       "      <td>100.5</td>\n",
       "      <td>-1.4</td>\n",
       "      <td>4.7</td>\n",
       "      <td>29</td>\n",
       "      <td>108.0</td>\n",
       "      <td>12.2</td>\n",
       "      <td>68</td>\n",
       "    </tr>\n",
       "    <tr>\n",
       "      <th>3</th>\n",
       "      <td>Apr-10</td>\n",
       "      <td>94.0</td>\n",
       "      <td>3.5</td>\n",
       "      <td>4.3</td>\n",
       "      <td>36</td>\n",
       "      <td>146.2</td>\n",
       "      <td>14.5</td>\n",
       "      <td>77</td>\n",
       "    </tr>\n",
       "    <tr>\n",
       "      <th>4</th>\n",
       "      <td>May-10</td>\n",
       "      <td>76.5</td>\n",
       "      <td>7.3</td>\n",
       "      <td>4.9</td>\n",
       "      <td>37</td>\n",
       "      <td>168.6</td>\n",
       "      <td>19.2</td>\n",
       "      <td>86</td>\n",
       "    </tr>\n",
       "  </tbody>\n",
       "</table>\n",
       "</div>"
      ],
      "text/plain": [
       "     year  total_precipitation  mean_air_temperature  mean_wind_speed  \\\n",
       "0  Jan-10                 75.5                  -3.4              5.5   \n",
       "1  Feb-10                109.5                  -4.9              4.1   \n",
       "2  Mar-10                100.5                  -1.4              4.7   \n",
       "3  Apr-10                 94.0                   3.5              4.3   \n",
       "4  May-10                 76.5                   7.3              4.9   \n",
       "\n",
       "   percentage_possible_sunshine  total_sunshine_duration  solar_radiation  \\\n",
       "0                            14                     40.4              8.1   \n",
       "1                            17                     48.8              9.1   \n",
       "2                            29                    108.0             12.2   \n",
       "3                            36                    146.2             14.5   \n",
       "4                            37                    168.6             19.2   \n",
       "\n",
       "   mean_relative_humidity  \n",
       "0                      75  \n",
       "1                      74  \n",
       "2                      68  \n",
       "3                      77  \n",
       "4                      86  "
      ]
     },
     "execution_count": 4,
     "metadata": {},
     "output_type": "execute_result"
    }
   ],
   "source": [
    "dataset.head()"
   ]
  },
  {
   "cell_type": "code",
   "execution_count": 6,
   "metadata": {},
   "outputs": [],
   "source": [
    "X = dataset.iloc[:, 1:-1].values #All rows, all columns excluding the last column indexed -1\n",
    "y = dataset.iloc[:, -1].values #All rows, last column\n"
   ]
  },
  {
   "cell_type": "code",
   "execution_count": 7,
   "metadata": {},
   "outputs": [
    {
     "name": "stdout",
     "output_type": "stream",
     "text": [
      "(120, 6)\n",
      "(120,)\n"
     ]
    }
   ],
   "source": [
    "print(X.shape)\n",
    "print(y.shape)"
   ]
  },
  {
   "cell_type": "code",
   "execution_count": 8,
   "metadata": {},
   "outputs": [],
   "source": [
    "model = LinearRegression()"
   ]
  },
  {
   "cell_type": "code",
   "execution_count": 9,
   "metadata": {},
   "outputs": [
    {
     "data": {
      "text/plain": [
       "LinearRegression()"
      ]
     },
     "execution_count": 9,
     "metadata": {},
     "output_type": "execute_result"
    }
   ],
   "source": [
    "model.fit(X, y)"
   ]
  },
  {
   "cell_type": "code",
   "execution_count": 10,
   "metadata": {},
   "outputs": [
    {
     "name": "stdout",
     "output_type": "stream",
     "text": [
      "coefficient of determination:  0.7234956028998238\n"
     ]
    }
   ],
   "source": [
    "r_sq = model.score(X, y)\n",
    "print('coefficient of determination: ', r_sq)"
   ]
  },
  {
   "cell_type": "code",
   "execution_count": 11,
   "metadata": {},
   "outputs": [
    {
     "name": "stdout",
     "output_type": "stream",
     "text": [
      "predicted response: \n",
      "[69.45083993 71.49151552 71.98047684 75.53977315 80.37168336 83.73015668\n",
      " 89.65586027 84.31141765 72.28599918 69.9957445  69.4999378  71.37472212\n",
      " 67.9737168  67.57597669 71.26194873 74.19235089 81.14296375 84.70924195\n",
      " 87.04931872 83.85867272 76.06670153 70.00389964 67.62982242 70.79789774\n",
      " 69.58498418 66.32432673 69.68022631 74.14042253 82.06250152 82.52718233\n",
      " 86.15018077 85.66213248 79.92859201 70.91284579 70.19413581 71.78694932\n",
      " 68.59347173 67.73864254 71.57135753 74.32929238 83.34738436 83.56976593\n",
      " 82.14513743 84.58897361 76.92875707 68.76955452 69.88242754 69.05540894\n",
      " 70.33568468 62.24290142 65.29250196 71.57435715 80.81957118 82.72843225\n",
      " 85.21416147 82.2025422  76.96891114 68.92475452 65.54861606 69.36605236\n",
      " 68.17475116 63.98062009 72.61715585 72.99528813 81.66134411 83.10340788\n",
      " 85.15468067 81.42334261 75.25096987 70.05750668 64.79514104 70.73737555\n",
      " 71.47422098 74.03515087 71.96629193 74.91625417 79.02716795 83.3018856\n",
      " 84.13392651 83.35956585 75.28281986 73.35000173 74.97660124 68.69652214\n",
      " 69.69949995 71.26361978 68.38018817 73.51868321 78.74847261 83.05060661\n",
      " 84.73347385 79.24448497 72.52906067 66.80360097 71.89556265 71.30177059\n",
      " 72.1819057  70.43143683 70.18135489 71.92581073 81.64263719 82.88163604\n",
      " 84.79962615 81.52828294 70.68663387 69.69846977 73.20231244 71.70553999\n",
      " 70.33007174 66.71744576 70.28251843 71.93170832 80.73826785 81.32432996\n",
      " 84.96448291 83.18726308 72.20406507 68.26065023 71.82429222 72.08446305]\n"
     ]
    }
   ],
   "source": [
    "y_pred = model.predict(X)\n",
    "print('predicted response: ', y_pred, sep='\\n')"
   ]
  },
  {
   "cell_type": "code",
   "execution_count": 12,
   "metadata": {},
   "outputs": [
    {
     "data": {
      "text/plain": [
       "(120,)"
      ]
     },
     "execution_count": 12,
     "metadata": {},
     "output_type": "execute_result"
    }
   ],
   "source": [
    "y_pred.shape"
   ]
  },
  {
   "cell_type": "code",
   "execution_count": 13,
   "metadata": {},
   "outputs": [
    {
     "name": "stdout",
     "output_type": "stream",
     "text": [
      "Mean Absolute Error: 2.8657004165573894\n",
      "Mean Squared Error: 15.660729009397897\n",
      "Root Mean Squared Error: 3.957363896509632\n"
     ]
    }
   ],
   "source": [
    "from sklearn import metrics\n",
    "\n",
    "print('Mean Absolute Error:', metrics.mean_absolute_error(y, y_pred))  \n",
    "print('Mean Squared Error:', metrics.mean_squared_error(y, y_pred))  \n",
    "print('Root Mean Squared Error:', np.sqrt(metrics.mean_squared_error(y, y_pred)))"
   ]
  },
  {
   "cell_type": "code",
   "execution_count": null,
   "metadata": {},
   "outputs": [],
   "source": []
  }
 ],
 "metadata": {
  "kernelspec": {
   "display_name": "Python 3",
   "language": "python",
   "name": "python3"
  },
  "language_info": {
   "codemirror_mode": {
    "name": "ipython",
    "version": 3
   },
   "file_extension": ".py",
   "mimetype": "text/x-python",
   "name": "python",
   "nbconvert_exporter": "python",
   "pygments_lexer": "ipython3",
   "version": "3.8.5"
  }
 },
 "nbformat": 4,
 "nbformat_minor": 5
}
