{
 "cells": [
  {
   "cell_type": "code",
   "execution_count": 1,
   "id": "norwegian-mainland",
   "metadata": {},
   "outputs": [],
   "source": [
    "#import needed libraries\n",
    "import numpy as np #for numerical operations\n",
    "import pandas as pd #for file operations\n",
    "import matplotlib.pyplot as plt #for plotting graphs\n",
    "import seaborn as sns #also for plotting graphs\n",
    "from sklearn.linear_model import LinearRegression #for machine learning \n",
    "from sklearn import metrics #for testing the machine learning model"
   ]
  },
  {
   "cell_type": "code",
   "execution_count": 2,
   "id": "regional-comparative",
   "metadata": {},
   "outputs": [],
   "source": [
    "# Importing the dataset\n",
    "dataset = pd.read_csv('mean-relative-humidity-Japanweather1.csv')"
   ]
  },
  {
   "cell_type": "code",
   "execution_count": 3,
   "id": "effective-career",
   "metadata": {},
   "outputs": [
    {
     "data": {
      "text/html": [
       "<div>\n",
       "<style scoped>\n",
       "    .dataframe tbody tr th:only-of-type {\n",
       "        vertical-align: middle;\n",
       "    }\n",
       "\n",
       "    .dataframe tbody tr th {\n",
       "        vertical-align: top;\n",
       "    }\n",
       "\n",
       "    .dataframe thead th {\n",
       "        text-align: right;\n",
       "    }\n",
       "</style>\n",
       "<table border=\"1\" class=\"dataframe\">\n",
       "  <thead>\n",
       "    <tr style=\"text-align: right;\">\n",
       "      <th></th>\n",
       "      <th>year</th>\n",
       "      <th>total_precipitation</th>\n",
       "      <th>mean_air_temperature</th>\n",
       "      <th>mean_wind_speed</th>\n",
       "      <th>percentage_possible_sunshine</th>\n",
       "      <th>total_sunshine_duration</th>\n",
       "      <th>solar_radiation</th>\n",
       "      <th>mean_relative_humidity</th>\n",
       "    </tr>\n",
       "  </thead>\n",
       "  <tbody>\n",
       "    <tr>\n",
       "      <th>0</th>\n",
       "      <td>Jan-10</td>\n",
       "      <td>75.5</td>\n",
       "      <td>-3.4</td>\n",
       "      <td>5.5</td>\n",
       "      <td>14</td>\n",
       "      <td>40.4</td>\n",
       "      <td>3.8</td>\n",
       "      <td>75</td>\n",
       "    </tr>\n",
       "    <tr>\n",
       "      <th>1</th>\n",
       "      <td>Feb-10</td>\n",
       "      <td>109.5</td>\n",
       "      <td>-4.9</td>\n",
       "      <td>4.1</td>\n",
       "      <td>17</td>\n",
       "      <td>48.8</td>\n",
       "      <td>6.2</td>\n",
       "      <td>74</td>\n",
       "    </tr>\n",
       "    <tr>\n",
       "      <th>2</th>\n",
       "      <td>Mar-10</td>\n",
       "      <td>100.5</td>\n",
       "      <td>-1.4</td>\n",
       "      <td>4.7</td>\n",
       "      <td>29</td>\n",
       "      <td>108.0</td>\n",
       "      <td>10.5</td>\n",
       "      <td>68</td>\n",
       "    </tr>\n",
       "    <tr>\n",
       "      <th>3</th>\n",
       "      <td>Apr-10</td>\n",
       "      <td>94.0</td>\n",
       "      <td>3.5</td>\n",
       "      <td>4.3</td>\n",
       "      <td>36</td>\n",
       "      <td>146.2</td>\n",
       "      <td>13.9</td>\n",
       "      <td>77</td>\n",
       "    </tr>\n",
       "    <tr>\n",
       "      <th>4</th>\n",
       "      <td>May-10</td>\n",
       "      <td>76.5</td>\n",
       "      <td>7.3</td>\n",
       "      <td>4.9</td>\n",
       "      <td>37</td>\n",
       "      <td>168.6</td>\n",
       "      <td>16.5</td>\n",
       "      <td>86</td>\n",
       "    </tr>\n",
       "  </tbody>\n",
       "</table>\n",
       "</div>"
      ],
      "text/plain": [
       "     year  total_precipitation  mean_air_temperature  mean_wind_speed  \\\n",
       "0  Jan-10                 75.5                  -3.4              5.5   \n",
       "1  Feb-10                109.5                  -4.9              4.1   \n",
       "2  Mar-10                100.5                  -1.4              4.7   \n",
       "3  Apr-10                 94.0                   3.5              4.3   \n",
       "4  May-10                 76.5                   7.3              4.9   \n",
       "\n",
       "   percentage_possible_sunshine  total_sunshine_duration  solar_radiation  \\\n",
       "0                            14                     40.4              3.8   \n",
       "1                            17                     48.8              6.2   \n",
       "2                            29                    108.0             10.5   \n",
       "3                            36                    146.2             13.9   \n",
       "4                            37                    168.6             16.5   \n",
       "\n",
       "   mean_relative_humidity  \n",
       "0                      75  \n",
       "1                      74  \n",
       "2                      68  \n",
       "3                      77  \n",
       "4                      86  "
      ]
     },
     "execution_count": 3,
     "metadata": {},
     "output_type": "execute_result"
    }
   ],
   "source": [
    "dataset.head() #show the first 5 rows of the dataset"
   ]
  },
  {
   "cell_type": "code",
   "execution_count": 4,
   "id": "indonesian-transaction",
   "metadata": {},
   "outputs": [],
   "source": [
    "X = dataset.iloc[:, 1:-1].values #select All rows, all columns excluding the first and the last column\n",
    "y = dataset.iloc[:, -1].values #select All rows, last column\n",
    "\n",
    "#dates = X[:,0]\n",
    "dates = dataset.iloc[:,0] #store the dates from the dataset (first column) in a variable, to be used when plotting graphs"
   ]
  },
  {
   "cell_type": "code",
   "execution_count": 5,
   "id": "adjusted-blade",
   "metadata": {},
   "outputs": [
    {
     "data": {
      "text/plain": [
       "LinearRegression()"
      ]
     },
     "execution_count": 5,
     "metadata": {},
     "output_type": "execute_result"
    }
   ],
   "source": [
    "#train a linear regression model on the data\n",
    "model = LinearRegression()\n",
    "model.fit(X, y)"
   ]
  },
  {
   "cell_type": "code",
   "execution_count": 6,
   "id": "cathedral-swimming",
   "metadata": {},
   "outputs": [
    {
     "name": "stdout",
     "output_type": "stream",
     "text": [
      "coefficient of determination:  0.7922595356036503\n"
     ]
    }
   ],
   "source": [
    "#find the coefficient of determination to see how well the model performs\n",
    "r_sq = model.score(X, y)\n",
    "print('coefficient of determination: ', r_sq)"
   ]
  },
  {
   "cell_type": "code",
   "execution_count": 7,
   "id": "agreed-copying",
   "metadata": {},
   "outputs": [
    {
     "name": "stdout",
     "output_type": "stream",
     "text": [
      "predicted response: \n",
      "[68.49740937 73.34776772 73.41439381 76.21272234 78.49683308 84.16935876\n",
      " 91.02568198 82.53972118 73.73767352 67.78883874 69.05499017 69.47453791\n",
      " 67.89382836 70.26272849 71.48991637 76.4018043  80.08502303 88.28790534\n",
      " 87.63071438 80.72904692 75.90432648 67.52604369 66.85361946 69.89135522\n",
      " 69.15951852 69.42787256 70.86083803 73.42892548 81.9859022  81.44243729\n",
      " 87.71913203 83.70617956 78.10313771 69.97253196 70.62552037 70.41891806\n",
      " 68.60845127 70.84979736 72.59138373 75.48214535 81.83574564 83.84162806\n",
      " 83.84859042 83.69332004 75.58099655 68.31164659 69.7670078  68.39224396\n",
      " 69.15997651 67.46342183 66.90648469 71.78037442 81.33378274 85.25090413\n",
      " 85.36971013 83.23155857 77.10945389 67.03728484 65.42976151 69.73293464\n",
      " 67.36307537 68.1482697  71.84675345 73.75001001 79.31037037 86.05547545\n",
      " 87.3264348  83.28221654 75.47058624 69.30149279 66.21765313 68.00709085\n",
      " 70.731414   73.41930944 71.28886524 75.39529108 74.25863669 84.35613518\n",
      " 85.66949395 81.59882545 77.59670481 71.14304678 72.57288123 67.61724582\n",
      " 68.70745535 72.29768467 67.93600449 74.0431112  79.09036499 84.13194845\n",
      " 86.1817335  81.29741658 70.49572276 66.61146386 70.72325265 70.02500712\n",
      " 70.67984538 71.26402826 71.11949261 72.20290907 80.62681595 85.30341399\n",
      " 86.633878   80.35267789 72.15835728 68.80919321 70.99859701 69.8499893\n",
      " 69.05799563 69.22540145 68.64392424 71.84368357 73.84801757 86.86007541\n",
      " 87.45044814 83.61757957 72.31660644 67.32747678 69.59759989 69.76779025]\n"
     ]
    }
   ],
   "source": [
    "y_pred = model.predict(X) #using the trained model, try to predict outcomes\n",
    "print('predicted response: ', y_pred, sep='\\n') #display predictions"
   ]
  },
  {
   "cell_type": "code",
   "execution_count": 8,
   "id": "cellular-columbia",
   "metadata": {},
   "outputs": [
    {
     "name": "stdout",
     "output_type": "stream",
     "text": [
      "Mean Absolute Error: 2.5129014230666153\n",
      "Mean Squared Error: 11.766059242880782\n",
      "Root Mean Squared Error: 3.430168981680171\n"
     ]
    }
   ],
   "source": [
    "#model evauluation metrics\n",
    "print('Mean Absolute Error:', metrics.mean_absolute_error(y, y_pred))  \n",
    "print('Mean Squared Error:', metrics.mean_squared_error(y, y_pred))  \n",
    "print('Root Mean Squared Error:', np.sqrt(metrics.mean_squared_error(y, y_pred)))"
   ]
  },
  {
   "cell_type": "code",
   "execution_count": 9,
   "id": "traditional-quantum",
   "metadata": {},
   "outputs": [
    {
     "data": {
      "text/plain": [
       "Text(0.5, 1.0, 'Mean relative humidity - actual and predicted values')"
      ]
     },
     "execution_count": 9,
     "metadata": {},
     "output_type": "execute_result"
    },
    {
     "data": {
      "image/png": "[encoded data removed]",
      "text/plain": [
       "<Figure size 720x360 with 1 Axes>"
      ]
     },
     "metadata": {
      "needs_background": "light"
     },
     "output_type": "display_data"
    }
   ],
   "source": [
    "df = pd.DataFrame(dict(actual_values=y[-13:-1], predicted_values=y_pred[-13:-1]), index=dates[-13:-1]) #create a dataframe containing the last 12 actual and predicted values with the month and year as the index of the dataframe\n",
    "g = sns.relplot(kind=\"line\", data=df) #plot a line graph using the dataframe\n",
    "g.fig.autofmt_xdate() #adjust the size of the x-axis so the dates have some spacing\n",
    "g.fig.set_size_inches(10, 5) #set the size of the figure\n",
    "plt.xlabel('Dates') #set the label for the x-axis\n",
    "plt.ylabel('Mean relative humidity') #set the label for the y-axis\n",
    "plt.title('Mean relative humidity - actual and predicted values') #set the title of the graph"
   ]
  },
  {
   "cell_type": "code",
   "execution_count": null,
   "id": "developmental-worthy",
   "metadata": {},
   "outputs": [],
   "source": []
  }
 ],
 "metadata": {
  "kernelspec": {
   "display_name": "Python 3",
   "language": "python",
   "name": "python3"
  },
  "language_info": {
   "codemirror_mode": {
    "name": "ipython",
    "version": 3
   },
   "file_extension": ".py",
   "mimetype": "text/x-python",
   "name": "python",
   "nbconvert_exporter": "python",
   "pygments_lexer": "ipython3",
   "version": "3.8.8"
  }
 },
 "nbformat": 4,
 "nbformat_minor": 5
}
