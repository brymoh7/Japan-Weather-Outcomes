{
 "cells": [
  {
   "cell_type": "code",
   "execution_count": 1,
   "id": "attempted-planning",
   "metadata": {},
   "outputs": [],
   "source": [
    "#import needed libraries\n",
    "import numpy as np #for numerical operations\n",
    "import pandas as pd #for file operations\n",
    "import matplotlib.pyplot as plt #for plotting graphs\n",
    "import seaborn as sns #also for plotting graphs\n",
    "from sklearn.linear_model import LinearRegression #for machine learning \n",
    "from sklearn import metrics #for testing the machine learning model"
   ]
  },
  {
   "cell_type": "code",
   "execution_count": 2,
   "id": "recreational-absolute",
   "metadata": {},
   "outputs": [],
   "source": [
    "# Importing the dataset\n",
    "dataset = pd.read_csv('total-sunshine-duration-Japanweather1.csv')"
   ]
  },
  {
   "cell_type": "code",
   "execution_count": 3,
   "id": "published-building",
   "metadata": {},
   "outputs": [
    {
     "data": {
      "text/html": [
       "<div>\n",
       "<style scoped>\n",
       "    .dataframe tbody tr th:only-of-type {\n",
       "        vertical-align: middle;\n",
       "    }\n",
       "\n",
       "    .dataframe tbody tr th {\n",
       "        vertical-align: top;\n",
       "    }\n",
       "\n",
       "    .dataframe thead th {\n",
       "        text-align: right;\n",
       "    }\n",
       "</style>\n",
       "<table border=\"1\" class=\"dataframe\">\n",
       "  <thead>\n",
       "    <tr style=\"text-align: right;\">\n",
       "      <th></th>\n",
       "      <th>year</th>\n",
       "      <th>total_precipitation</th>\n",
       "      <th>mean_air_temperature</th>\n",
       "      <th>mean_wind_speed</th>\n",
       "      <th>mean_relative_humidity</th>\n",
       "      <th>percentage_possible_sunshine</th>\n",
       "      <th>solar_radiation</th>\n",
       "      <th>total_sunshine_duration</th>\n",
       "    </tr>\n",
       "  </thead>\n",
       "  <tbody>\n",
       "    <tr>\n",
       "      <th>0</th>\n",
       "      <td>Jan-10</td>\n",
       "      <td>75.5</td>\n",
       "      <td>-3.4</td>\n",
       "      <td>5.5</td>\n",
       "      <td>75</td>\n",
       "      <td>14</td>\n",
       "      <td>8.1</td>\n",
       "      <td>40.4</td>\n",
       "    </tr>\n",
       "    <tr>\n",
       "      <th>1</th>\n",
       "      <td>Feb-10</td>\n",
       "      <td>109.5</td>\n",
       "      <td>-4.9</td>\n",
       "      <td>4.1</td>\n",
       "      <td>74</td>\n",
       "      <td>17</td>\n",
       "      <td>9.1</td>\n",
       "      <td>48.8</td>\n",
       "    </tr>\n",
       "    <tr>\n",
       "      <th>2</th>\n",
       "      <td>Mar-10</td>\n",
       "      <td>100.5</td>\n",
       "      <td>-1.4</td>\n",
       "      <td>4.7</td>\n",
       "      <td>68</td>\n",
       "      <td>29</td>\n",
       "      <td>12.2</td>\n",
       "      <td>108.0</td>\n",
       "    </tr>\n",
       "    <tr>\n",
       "      <th>3</th>\n",
       "      <td>Apr-10</td>\n",
       "      <td>94.0</td>\n",
       "      <td>3.5</td>\n",
       "      <td>4.3</td>\n",
       "      <td>77</td>\n",
       "      <td>36</td>\n",
       "      <td>14.5</td>\n",
       "      <td>146.2</td>\n",
       "    </tr>\n",
       "    <tr>\n",
       "      <th>4</th>\n",
       "      <td>May-10</td>\n",
       "      <td>76.5</td>\n",
       "      <td>7.3</td>\n",
       "      <td>4.9</td>\n",
       "      <td>86</td>\n",
       "      <td>37</td>\n",
       "      <td>19.2</td>\n",
       "      <td>168.6</td>\n",
       "    </tr>\n",
       "  </tbody>\n",
       "</table>\n",
       "</div>"
      ],
      "text/plain": [
       "     year  total_precipitation  mean_air_temperature  mean_wind_speed  \\\n",
       "0  Jan-10                 75.5                  -3.4              5.5   \n",
       "1  Feb-10                109.5                  -4.9              4.1   \n",
       "2  Mar-10                100.5                  -1.4              4.7   \n",
       "3  Apr-10                 94.0                   3.5              4.3   \n",
       "4  May-10                 76.5                   7.3              4.9   \n",
       "\n",
       "   mean_relative_humidity  percentage_possible_sunshine  solar_radiation  \\\n",
       "0                      75                            14              8.1   \n",
       "1                      74                            17              9.1   \n",
       "2                      68                            29             12.2   \n",
       "3                      77                            36             14.5   \n",
       "4                      86                            37             19.2   \n",
       "\n",
       "   total_sunshine_duration  \n",
       "0                     40.4  \n",
       "1                     48.8  \n",
       "2                    108.0  \n",
       "3                    146.2  \n",
       "4                    168.6  "
      ]
     },
     "execution_count": 3,
     "metadata": {},
     "output_type": "execute_result"
    }
   ],
   "source": [
    "dataset.head() #show the first 5 rows of the dataset"
   ]
  },
  {
   "cell_type": "code",
   "execution_count": 4,
   "id": "stopped-pressing",
   "metadata": {},
   "outputs": [],
   "source": [
    "X = dataset.iloc[:, 1:-1].values #select All rows, all columns excluding the first and the last column\n",
    "y = dataset.iloc[:, -1].values #select All rows, last column\n",
    "\n",
    "#dates = X[:,0]\n",
    "dates = dataset.iloc[:,0] #store the dates from the dataset (first column) in a variable, to be used when plotting graphs"
   ]
  },
  {
   "cell_type": "code",
   "execution_count": 5,
   "id": "comparative-reverse",
   "metadata": {},
   "outputs": [
    {
     "data": {
      "text/plain": [
       "LinearRegression()"
      ]
     },
     "execution_count": 5,
     "metadata": {},
     "output_type": "execute_result"
    }
   ],
   "source": [
    "#train a linear regression model on the data\n",
    "model = LinearRegression()\n",
    "model.fit(X, y)"
   ]
  },
  {
   "cell_type": "code",
   "execution_count": 6,
   "id": "hairy-airfare",
   "metadata": {},
   "outputs": [
    {
     "name": "stdout",
     "output_type": "stream",
     "text": [
      "coefficient of determination:  0.9776840459436359\n"
     ]
    }
   ],
   "source": [
    "#find the coefficient of determination to see how well the model performs\n",
    "r_sq = model.score(X, y)\n",
    "print('coefficient of determination: ', r_sq)"
   ]
  },
  {
   "cell_type": "code",
   "execution_count": 7,
   "id": "assumed-inspiration",
   "metadata": {},
   "outputs": [
    {
     "name": "stdout",
     "output_type": "stream",
     "text": [
      "predicted response: \n",
      "[ 41.34123455  50.83749998 100.01869887 141.15444933 167.03802774\n",
      " 197.68944408  90.94764935 181.83236851 202.89003372 165.54712127\n",
      "  70.44902375  27.05758647  62.47997033 105.29248505 155.38453096\n",
      " 150.94107508 138.21751327 124.09450029 141.22979849 176.21630916\n",
      " 171.26261801 151.65693549  89.33192722  24.50461509  39.35124391\n",
      "  77.00345871 134.73433779 190.38451042 139.30907158 192.15561701\n",
      " 119.67031501 166.20909988 138.86888366 133.09998024  37.92782096\n",
      "   3.53835995  36.7784067   74.60233825  95.1896103  163.44871969\n",
      " 133.53612295 178.27175322 182.29309684 126.09882319 157.10654178\n",
      " 143.26343344  75.20482816  26.70398425  41.21501783 115.40610936\n",
      " 188.78172407 219.69887034 143.72116055 160.65890357 155.74880728\n",
      " 167.17217163 162.50392316 154.18115711 111.63689528  14.5607054\n",
      "  51.23707899 100.34809259 125.48441583 173.74100355 181.13716781\n",
      " 123.83778771 127.81253865 135.08128866 177.55041552 126.89842348\n",
      "  93.66096124  44.83923535   5.94903511  29.94992836 144.2914444\n",
      " 151.9750485  212.71664809 151.18653576 153.01493246 173.4373258\n",
      " 148.45325331  86.49866532  14.50896927  30.78273238  37.8364388\n",
      "  63.03670347 186.66293161 179.38108655 171.2757092  124.88115753\n",
      " 130.26396351 148.70948942 225.48289004 147.02615296  43.90257114\n",
      "  21.74434582  21.06269878  65.2307356  148.10103283 193.2571775\n",
      " 160.03496566 118.8920424  162.2563848  162.67287602 217.01205222\n",
      " 157.69544838  57.23803199  11.19351196  36.35059333 105.62126267\n",
      " 161.64210238 225.48219281 243.33088845 138.63922727 124.95787974\n",
      " 113.35292599 218.66799703 158.31734186  43.27071076  16.07233179]\n"
     ]
    }
   ],
   "source": [
    "y_pred = model.predict(X) #using the trained model, try to predict outcomes\n",
    "print('predicted response: ', y_pred, sep='\\n') #display predictions"
   ]
  },
  {
   "cell_type": "code",
   "execution_count": 8,
   "id": "classical-florist",
   "metadata": {},
   "outputs": [
    {
     "name": "stdout",
     "output_type": "stream",
     "text": [
      "Mean Absolute Error: 6.8896092385326915\n",
      "Mean Squared Error: 80.72659855841897\n",
      "Root Mean Squared Error: 8.984798192414729\n"
     ]
    }
   ],
   "source": [
    "#model evauluation metrics\n",
    "print('Mean Absolute Error:', metrics.mean_absolute_error(y, y_pred))  \n",
    "print('Mean Squared Error:', metrics.mean_squared_error(y, y_pred))  \n",
    "print('Root Mean Squared Error:', np.sqrt(metrics.mean_squared_error(y, y_pred)))"
   ]
  },
  {
   "cell_type": "code",
   "execution_count": 9,
   "id": "controlled-nurse",
   "metadata": {},
   "outputs": [
    {
     "data": {
      "text/plain": [
       "Text(0.5, 1.0, 'Total sunshine duration - actual and predicted values')"
      ]
     },
     "execution_count": 9,
     "metadata": {},
     "output_type": "execute_result"
    },
    {
     "data": {
      "image/png": "[encoded data removed]",
      "text/plain": [
       "<Figure size 720x360 with 1 Axes>"
      ]
     },
     "metadata": {
      "needs_background": "light"
     },
     "output_type": "display_data"
    }
   ],
   "source": [
    "df = pd.DataFrame(dict(actual_values=y[-13:-1], predicted_values=y_pred[-13:-1]), index=dates[-13:-1]) #create a dataframe containing the last 12 actual and predicted values with the month and year as the index of the dataframe\n",
    "g = sns.relplot(kind=\"line\", data=df) #plot a line graph using the dataframe\n",
    "g.fig.autofmt_xdate() #adjust the size of the x-axis so the dates have some spacing\n",
    "g.fig.set_size_inches(10, 5) #set the size of the figure\n",
    "plt.xlabel('Dates') #set the label for the x-axis\n",
    "plt.ylabel('Total sunshine duration') #set the label for the y-axis\n",
    "plt.title('Total sunshine duration - actual and predicted values') #set the title of the graph"
   ]
  },
  {
   "cell_type": "code",
   "execution_count": null,
   "id": "grave-medicine",
   "metadata": {},
   "outputs": [],
   "source": []
  }
 ],
 "metadata": {
  "kernelspec": {
   "display_name": "Python 3",
   "language": "python",
   "name": "python3"
  },
  "language_info": {
   "codemirror_mode": {
    "name": "ipython",
    "version": 3
   },
   "file_extension": ".py",
   "mimetype": "text/x-python",
   "name": "python",
   "nbconvert_exporter": "python",
   "pygments_lexer": "ipython3",
   "version": "3.8.8"
  }
 },
 "nbformat": 4,
 "nbformat_minor": 5
}
