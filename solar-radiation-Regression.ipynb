{
 "cells": [
  {
   "cell_type": "code",
   "execution_count": 1,
   "id": "commercial-simpson",
   "metadata": {},
   "outputs": [],
   "source": [
    "import numpy as np\n",
    "import pandas as pd\n",
    "import matplotlib.pyplot as plt\n",
    "from sklearn.linear_model import LinearRegression\n",
    "import statsmodels.api as sm"
   ]
  },
  {
   "cell_type": "code",
   "execution_count": 2,
   "id": "single-measurement",
   "metadata": {},
   "outputs": [],
   "source": [
    "# Importing the dataset\n",
    "dataset = pd.read_csv('solar-radiation-Japanweather1.csv')"
   ]
  },
  {
   "cell_type": "code",
   "execution_count": 3,
   "id": "occasional-reggae",
   "metadata": {},
   "outputs": [
    {
     "data": {
      "text/html": [
       "<div>\n",
       "<style scoped>\n",
       "    .dataframe tbody tr th:only-of-type {\n",
       "        vertical-align: middle;\n",
       "    }\n",
       "\n",
       "    .dataframe tbody tr th {\n",
       "        vertical-align: top;\n",
       "    }\n",
       "\n",
       "    .dataframe thead th {\n",
       "        text-align: right;\n",
       "    }\n",
       "</style>\n",
       "<table border=\"1\" class=\"dataframe\">\n",
       "  <thead>\n",
       "    <tr style=\"text-align: right;\">\n",
       "      <th></th>\n",
       "      <th>year</th>\n",
       "      <th>total_precipitation</th>\n",
       "      <th>mean_air_temperature</th>\n",
       "      <th>mean_wind_speed</th>\n",
       "      <th>mean_relative_humidity</th>\n",
       "      <th>percentage_possible_sunshine</th>\n",
       "      <th>total_sunshine_duration</th>\n",
       "      <th>solar_radiation</th>\n",
       "    </tr>\n",
       "  </thead>\n",
       "  <tbody>\n",
       "    <tr>\n",
       "      <th>0</th>\n",
       "      <td>Jan-10</td>\n",
       "      <td>75.5</td>\n",
       "      <td>-3.4</td>\n",
       "      <td>5.5</td>\n",
       "      <td>75</td>\n",
       "      <td>14</td>\n",
       "      <td>40.4</td>\n",
       "      <td>8.1</td>\n",
       "    </tr>\n",
       "    <tr>\n",
       "      <th>1</th>\n",
       "      <td>Feb-10</td>\n",
       "      <td>109.5</td>\n",
       "      <td>-4.9</td>\n",
       "      <td>4.1</td>\n",
       "      <td>74</td>\n",
       "      <td>17</td>\n",
       "      <td>48.8</td>\n",
       "      <td>9.1</td>\n",
       "    </tr>\n",
       "    <tr>\n",
       "      <th>2</th>\n",
       "      <td>Mar-10</td>\n",
       "      <td>100.5</td>\n",
       "      <td>-1.4</td>\n",
       "      <td>4.7</td>\n",
       "      <td>68</td>\n",
       "      <td>29</td>\n",
       "      <td>108.0</td>\n",
       "      <td>12.2</td>\n",
       "    </tr>\n",
       "    <tr>\n",
       "      <th>3</th>\n",
       "      <td>Apr-10</td>\n",
       "      <td>94.0</td>\n",
       "      <td>3.5</td>\n",
       "      <td>4.3</td>\n",
       "      <td>77</td>\n",
       "      <td>36</td>\n",
       "      <td>146.2</td>\n",
       "      <td>14.5</td>\n",
       "    </tr>\n",
       "    <tr>\n",
       "      <th>4</th>\n",
       "      <td>May-10</td>\n",
       "      <td>76.5</td>\n",
       "      <td>7.3</td>\n",
       "      <td>4.9</td>\n",
       "      <td>86</td>\n",
       "      <td>37</td>\n",
       "      <td>168.6</td>\n",
       "      <td>19.2</td>\n",
       "    </tr>\n",
       "  </tbody>\n",
       "</table>\n",
       "</div>"
      ],
      "text/plain": [
       "     year  total_precipitation  mean_air_temperature  mean_wind_speed  \\\n",
       "0  Jan-10                 75.5                  -3.4              5.5   \n",
       "1  Feb-10                109.5                  -4.9              4.1   \n",
       "2  Mar-10                100.5                  -1.4              4.7   \n",
       "3  Apr-10                 94.0                   3.5              4.3   \n",
       "4  May-10                 76.5                   7.3              4.9   \n",
       "\n",
       "   mean_relative_humidity  percentage_possible_sunshine  \\\n",
       "0                      75                            14   \n",
       "1                      74                            17   \n",
       "2                      68                            29   \n",
       "3                      77                            36   \n",
       "4                      86                            37   \n",
       "\n",
       "   total_sunshine_duration  solar_radiation  \n",
       "0                     40.4              8.1  \n",
       "1                     48.8              9.1  \n",
       "2                    108.0             12.2  \n",
       "3                    146.2             14.5  \n",
       "4                    168.6             19.2  "
      ]
     },
     "execution_count": 3,
     "metadata": {},
     "output_type": "execute_result"
    }
   ],
   "source": [
    "dataset.head()"
   ]
  },
  {
   "cell_type": "code",
   "execution_count": 4,
   "id": "occasional-batman",
   "metadata": {},
   "outputs": [],
   "source": [
    "X = dataset.iloc[:, 1:-1].values #All rows, all columns excluding the last column indexed -1\n",
    "y = dataset.iloc[:, -1].values #All rows, last column\n",
    "\n",
    "#print ('\\n Input Feature X = ', X, '\\n The shape of X = ',X.shape,  ' \\n Output (Y) = ', y, '\\n Shape of y = ',y.shape)\n",
    "#print('Datatype of X and Y : ', type(X), type(y))"
   ]
  },
  {
   "cell_type": "code",
   "execution_count": 131,
   "id": "complete-glance",
   "metadata": {},
   "outputs": [
    {
     "name": "stdout",
     "output_type": "stream",
     "text": [
      "                                 OLS Regression Results                                \n",
      "=======================================================================================\n",
      "Dep. Variable:                      y   R-squared (uncentered):                   0.812\n",
      "Model:                            OLS   Adj. R-squared (uncentered):              0.802\n",
      "Method:                 Least Squares   F-statistic:                              81.88\n",
      "Date:                Fri, 18 Jun 2021   Prob (F-statistic):                    5.34e-39\n",
      "Time:                        17:52:16   Log-Likelihood:                         -635.96\n",
      "No. Observations:                 120   AIC:                                      1284.\n",
      "Df Residuals:                     114   BIC:                                      1301.\n",
      "Df Model:                           6                                                  \n",
      "Covariance Type:            nonrobust                                                  \n",
      "==============================================================================\n",
      "                 coef    std err          t      P>|t|      [0.025      0.975]\n",
      "------------------------------------------------------------------------------\n",
      "x1             0.2891      2.173      0.133      0.894      -4.015       4.594\n",
      "x2             4.7788      0.874      5.465      0.000       3.046       6.511\n",
      "x3             6.9307      7.145      0.970      0.334      -7.224      21.085\n",
      "x4             1.0478      0.507      2.067      0.041       0.043       2.052\n",
      "x5             3.9180      1.546      2.535      0.013       0.856       6.980\n",
      "x6            -1.4538      0.445     -3.269      0.001      -2.335      -0.573\n",
      "==============================================================================\n",
      "Omnibus:                       33.920   Durbin-Watson:                   1.989\n",
      "Prob(Omnibus):                  0.000   Jarque-Bera (JB):               66.056\n",
      "Skew:                           1.195   Prob(JB):                     4.53e-15\n",
      "Kurtosis:                       5.739   Cond. No.                         250.\n",
      "==============================================================================\n",
      "\n",
      "Notes:\n",
      "[1] R² is computed without centering (uncentered) since the model does not contain a constant.\n",
      "[2] Standard Errors assume that the covariance matrix of the errors is correctly specified.\n"
     ]
    }
   ],
   "source": [
    "X_opt = [0,1,2,3,4,5]\n",
    "regressor = sm.OLS(y, X[:,X_opt]).fit()\n",
    "print(regressor.summary())"
   ]
  },
  {
   "cell_type": "code",
   "execution_count": 132,
   "id": "nominated-london",
   "metadata": {},
   "outputs": [
    {
     "name": "stdout",
     "output_type": "stream",
     "text": [
      "                                 OLS Regression Results                                \n",
      "=======================================================================================\n",
      "Dep. Variable:                      y   R-squared (uncentered):                   0.812\n",
      "Model:                            OLS   Adj. R-squared (uncentered):              0.803\n",
      "Method:                 Least Squares   F-statistic:                              99.10\n",
      "Date:                Fri, 18 Jun 2021   Prob (F-statistic):                    5.13e-40\n",
      "Time:                        18:00:02   Log-Likelihood:                         -635.97\n",
      "No. Observations:                 120   AIC:                                      1282.\n",
      "Df Residuals:                     115   BIC:                                      1296.\n",
      "Df Model:                           5                                                  \n",
      "Covariance Type:            nonrobust                                                  \n",
      "==============================================================================\n",
      "                 coef    std err          t      P>|t|      [0.025      0.975]\n",
      "------------------------------------------------------------------------------\n",
      "x1             4.7520      0.847      5.608      0.000       3.074       6.430\n",
      "x2             7.0791      7.027      1.007      0.316      -6.841      20.999\n",
      "x3             1.0738      0.466      2.305      0.023       0.151       1.997\n",
      "x4             3.7922      1.218      3.114      0.002       1.380       6.204\n",
      "x5            -1.4109      0.305     -4.630      0.000      -2.014      -0.807\n",
      "==============================================================================\n",
      "Omnibus:                       33.537   Durbin-Watson:                   1.991\n",
      "Prob(Omnibus):                  0.000   Jarque-Bera (JB):               64.935\n",
      "Skew:                           1.184   Prob(JB):                     7.93e-15\n",
      "Kurtosis:                       5.717   Cond. No.                         245.\n",
      "==============================================================================\n",
      "\n",
      "Notes:\n",
      "[1] R² is computed without centering (uncentered) since the model does not contain a constant.\n",
      "[2] Standard Errors assume that the covariance matrix of the errors is correctly specified.\n"
     ]
    }
   ],
   "source": [
    "X_opt = [1,2,3,4,5]\n",
    "regressor = sm.OLS(y, X[:,X_opt]).fit()\n",
    "print(regressor.summary())"
   ]
  },
  {
   "cell_type": "code",
   "execution_count": 133,
   "id": "moved-grammar",
   "metadata": {},
   "outputs": [
    {
     "name": "stdout",
     "output_type": "stream",
     "text": [
      "                                 OLS Regression Results                                \n",
      "=======================================================================================\n",
      "Dep. Variable:                      y   R-squared (uncentered):                   0.810\n",
      "Model:                            OLS   Adj. R-squared (uncentered):              0.803\n",
      "Method:                 Least Squares   F-statistic:                              123.6\n",
      "Date:                Fri, 18 Jun 2021   Prob (F-statistic):                    7.14e-41\n",
      "Time:                        18:00:54   Log-Likelihood:                         -636.49\n",
      "No. Observations:                 120   AIC:                                      1281.\n",
      "Df Residuals:                     116   BIC:                                      1292.\n",
      "Df Model:                           4                                                  \n",
      "Covariance Type:            nonrobust                                                  \n",
      "==============================================================================\n",
      "                 coef    std err          t      P>|t|      [0.025      0.975]\n",
      "------------------------------------------------------------------------------\n",
      "x1             4.3526      0.749      5.812      0.000       2.869       5.836\n",
      "x2             1.5162      0.155      9.750      0.000       1.208       1.824\n",
      "x3             4.2847      1.115      3.842      0.000       2.076       6.494\n",
      "x4            -1.5154      0.287     -5.289      0.000      -2.083      -0.948\n",
      "==============================================================================\n",
      "Omnibus:                       31.088   Durbin-Watson:                   1.951\n",
      "Prob(Omnibus):                  0.000   Jarque-Bera (JB):               56.733\n",
      "Skew:                           1.126   Prob(JB):                     4.79e-13\n",
      "Kurtosis:                       5.504   Cond. No.                         42.2\n",
      "==============================================================================\n",
      "\n",
      "Notes:\n",
      "[1] R² is computed without centering (uncentered) since the model does not contain a constant.\n",
      "[2] Standard Errors assume that the covariance matrix of the errors is correctly specified.\n"
     ]
    }
   ],
   "source": [
    "X_opt = [1,3,4,5]\n",
    "regressor = sm.OLS(y, X[:,X_opt]).fit()\n",
    "print(regressor.summary())"
   ]
  },
  {
   "cell_type": "code",
   "execution_count": 110,
   "id": "behavioral-pierce",
   "metadata": {},
   "outputs": [
    {
     "data": {
      "text/plain": [
       "array([ 75.5, 109.5, 100.5,  94. ,  76.5,  31.5, 233.5,  99.5, 170.5,\n",
       "        97. , 108.5, 116. ,  64.5,  39.5,  58. ,  92. ,  68.5,  67. ,\n",
       "        51. ,  56.5, 312. , 116. ,  92.5, 186.5,  79.5,  76.5,  52. ,\n",
       "        43. ,  64.5,  23.5, 107. , 129.5, 169. , 110.5, 157. , 147.5,\n",
       "       124. ,  49. ,  69.5,  78. ,  52. ,  29. ,  23.5, 116. , 110. ,\n",
       "       106.5, 194.5,  93.5, 105. ,  44. ,  20. ,  34.5,  62. , 144.5,\n",
       "        44. , 275.5, 256.5,  58.5, 103.5, 143. ,  55.5,  48.5, 105.5,\n",
       "        40. ,  82. , 132. , 205.5,  20.5, 103.5, 182.5,  62.5, 110. ,\n",
       "       118.5, 115.5,  40. ,  82.5,  41.5, 146. , 154. , 112. , 316. ,\n",
       "       132.5, 129.5,  34.5,  47.5,  37.5,  43. ,  68.5,  33. ,  86.5,\n",
       "        97. ,  70. , 115. , 104. , 177.5, 153. , 122. ,  75. ,  95.5,\n",
       "        32. , 102. , 114. , 121.5,  94. ,  56. , 160. ,  70. ,  72. ,\n",
       "        56. ,  46.5,  35.5,  11. ,  48. ,  48.5,  88. , 163.5,  36.5,\n",
       "        55. ,  69. ,  91.5])"
      ]
     },
     "execution_count": 110,
     "metadata": {},
     "output_type": "execute_result"
    }
   ],
   "source": [
    "y"
   ]
  },
  {
   "cell_type": "code",
   "execution_count": 103,
   "id": "accepted-insurance",
   "metadata": {},
   "outputs": [],
   "source": [
    "#X = X.reshape(-1,1)"
   ]
  },
  {
   "cell_type": "code",
   "execution_count": 5,
   "id": "owned-rebate",
   "metadata": {},
   "outputs": [
    {
     "name": "stdout",
     "output_type": "stream",
     "text": [
      "(120, 6)\n",
      "(120,)\n"
     ]
    }
   ],
   "source": [
    "print(X.shape)\n",
    "print(y.shape)"
   ]
  },
  {
   "cell_type": "code",
   "execution_count": 6,
   "id": "italic-angel",
   "metadata": {},
   "outputs": [],
   "source": [
    "model = LinearRegression()"
   ]
  },
  {
   "cell_type": "code",
   "execution_count": 7,
   "id": "continued-arena",
   "metadata": {},
   "outputs": [
    {
     "data": {
      "text/plain": [
       "LinearRegression()"
      ]
     },
     "execution_count": 7,
     "metadata": {},
     "output_type": "execute_result"
    }
   ],
   "source": [
    "model.fit(X, y)"
   ]
  },
  {
   "cell_type": "code",
   "execution_count": 8,
   "id": "monetary-substitute",
   "metadata": {},
   "outputs": [
    {
     "name": "stdout",
     "output_type": "stream",
     "text": [
      "coefficient of determination:  0.7673280318719918\n"
     ]
    }
   ],
   "source": [
    "r_sq = model.score(X, y)\n",
    "print('coefficient of determination: ', r_sq)"
   ]
  },
  {
   "cell_type": "code",
   "execution_count": 9,
   "id": "thick-trigger",
   "metadata": {},
   "outputs": [
    {
     "name": "stdout",
     "output_type": "stream",
     "text": [
      "predicted response: \n",
      "[10.09254531  9.00231526 11.80087835 14.85510929 18.92367425 19.76894649\n",
      " 12.26049692 16.16359412 13.35719367 10.42662991  8.48033003  9.54882565\n",
      "  9.56556469  8.43419185 12.49146905 15.5082702  17.2193629  15.80188226\n",
      " 15.57133669 15.5433644  13.36393833 10.45557066  7.88764411  9.20053616\n",
      "  8.9559818   9.53616749 12.86887869 16.39372464 16.04358225 19.74497889\n",
      " 14.96869058 14.91178743 12.13616329  9.70959691  9.90586592  9.56227357\n",
      "  9.94280089  9.54105585 12.0645058  15.482072   15.608992   18.24430861\n",
      " 19.5372591  13.58546915 11.75609458 10.66083029  7.6175111   9.09528793\n",
      "  8.28293754  9.71825376 14.60474616 18.19601622 16.97182713 17.75047325\n",
      " 17.13503135 16.3570999  12.87913531  9.78395825  7.5466658   9.00073298\n",
      "  9.01822549 10.26586685 13.43712417 15.7732154  17.91535543 15.90057314\n",
      " 15.55543365 14.20727422 12.80450062  9.9670788   8.07028815  6.96530602\n",
      "  8.30623215  8.83581398 11.70467164 15.43495716 20.43317545 17.27610678\n",
      " 17.52938452 15.89085523 12.93989471  7.72848169  7.1655883   7.6011559\n",
      "  8.23949074  8.24649904 13.74511567 15.75908895 18.70858335 16.0471528\n",
      " 15.79102156 15.4566276  14.54468384 10.35092403  8.6925984   8.82013019\n",
      "  9.88432952  9.53763986 13.72052351 16.50252429 17.9890281  15.22473328\n",
      " 17.78552271 16.39774643 14.19708944 10.34725035  6.7265267   8.11427062\n",
      "  8.87071679  7.89966576 13.94494995 17.66214007 22.26569512 16.95754361\n",
      " 15.57708214 14.42549485 13.75392043 10.5978561   7.6903756   8.47447218]\n"
     ]
    }
   ],
   "source": [
    "y_pred = model.predict(X)\n",
    "print('predicted response: ', y_pred, sep='\\n')"
   ]
  },
  {
   "cell_type": "code",
   "execution_count": 140,
   "id": "reduced-opening",
   "metadata": {},
   "outputs": [
    {
     "data": {
      "text/plain": [
       "(120,)"
      ]
     },
     "execution_count": 140,
     "metadata": {},
     "output_type": "execute_result"
    }
   ],
   "source": [
    "y_pred.shape"
   ]
  },
  {
   "cell_type": "code",
   "execution_count": 87,
   "id": "nonprofit-siemens",
   "metadata": {},
   "outputs": [
    {
     "name": "stdout",
     "output_type": "stream",
     "text": [
      "(10, 1)\n",
      "(10,)\n",
      "10\n"
     ]
    }
   ],
   "source": [
    "X1 = dataset.iloc[:, 1:2].values #All rows, all columns excluding the last column indexed -1\n",
    "print(X1.shape)\n",
    "print(y.shape)\n",
    "print(X1.size)"
   ]
  },
  {
   "cell_type": "code",
   "execution_count": 81,
   "id": "occupied-confusion",
   "metadata": {},
   "outputs": [
    {
     "data": {
      "text/plain": [
       "list"
      ]
     },
     "execution_count": 81,
     "metadata": {},
     "output_type": "execute_result"
    }
   ],
   "source": [
    "X1 = [8.1, 8.3, 7.5, 8.4, 8.2, 7.4, 7.2, 7.8, 8.1, 8.9]\n",
    "type(X1)"
   ]
  },
  {
   "cell_type": "code",
   "execution_count": 88,
   "id": "revised-likelihood",
   "metadata": {},
   "outputs": [
    {
     "data": {
      "text/plain": [
       "10"
      ]
     },
     "execution_count": 88,
     "metadata": {},
     "output_type": "execute_result"
    }
   ],
   "source": [
    "y.size"
   ]
  },
  {
   "cell_type": "code",
   "execution_count": 10,
   "id": "headed-newport",
   "metadata": {},
   "outputs": [
    {
     "name": "stdout",
     "output_type": "stream",
     "text": [
      "Mean Absolute Error: 1.6091731428535254\n",
      "Mean Squared Error: 4.289691479609486\n",
      "Root Mean Squared Error: 2.071157038857625\n"
     ]
    }
   ],
   "source": [
    "from sklearn import metrics\n",
    "\n",
    "print('Mean Absolute Error:', metrics.mean_absolute_error(y, y_pred))  \n",
    "print('Mean Squared Error:', metrics.mean_squared_error(y, y_pred))  \n",
    "print('Root Mean Squared Error:', np.sqrt(metrics.mean_squared_error(y, y_pred)))"
   ]
  },
  {
   "cell_type": "code",
   "execution_count": null,
   "id": "automatic-retail",
   "metadata": {},
   "outputs": [],
   "source": []
  }
 ],
 "metadata": {
  "kernelspec": {
   "display_name": "Python 3",
   "language": "python",
   "name": "python3"
  },
  "language_info": {
   "codemirror_mode": {
    "name": "ipython",
    "version": 3
   },
   "file_extension": ".py",
   "mimetype": "text/x-python",
   "name": "python",
   "nbconvert_exporter": "python",
   "pygments_lexer": "ipython3",
   "version": "3.8.8"
  }
 },
 "nbformat": 4,
 "nbformat_minor": 5
}
