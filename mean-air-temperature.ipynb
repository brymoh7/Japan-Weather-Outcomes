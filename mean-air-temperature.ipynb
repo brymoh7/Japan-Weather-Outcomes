{
 "cells": [
  {
   "cell_type": "code",
   "execution_count": 1,
   "id": "promising-crossing",
   "metadata": {},
   "outputs": [],
   "source": [
    "#import needed libraries\n",
    "import numpy as np #for numerical operations\n",
    "import pandas as pd #for file operations\n",
    "import matplotlib.pyplot as plt #for plotting graphs\n",
    "import seaborn as sns #also for plotting graphs\n",
    "from sklearn.linear_model import LinearRegression #for machine learning \n",
    "from sklearn import metrics #for testing the machine learning model"
   ]
  },
  {
   "cell_type": "code",
   "execution_count": 2,
   "id": "fewer-samba",
   "metadata": {},
   "outputs": [],
   "source": [
    "# Importing the dataset\n",
    "dataset = pd.read_csv('mean-air-temperature.csv')"
   ]
  },
  {
   "cell_type": "code",
   "execution_count": 3,
   "id": "gross-fetish",
   "metadata": {},
   "outputs": [
    {
     "data": {
      "text/html": [
       "<div>\n",
       "<style scoped>\n",
       "    .dataframe tbody tr th:only-of-type {\n",
       "        vertical-align: middle;\n",
       "    }\n",
       "\n",
       "    .dataframe tbody tr th {\n",
       "        vertical-align: top;\n",
       "    }\n",
       "\n",
       "    .dataframe thead th {\n",
       "        text-align: right;\n",
       "    }\n",
       "</style>\n",
       "<table border=\"1\" class=\"dataframe\">\n",
       "  <thead>\n",
       "    <tr style=\"text-align: right;\">\n",
       "      <th></th>\n",
       "      <th>year</th>\n",
       "      <th>total_precipitation</th>\n",
       "      <th>mean_wind_speed</th>\n",
       "      <th>mean_relative_humidity</th>\n",
       "      <th>percentage_possible_sunshine</th>\n",
       "      <th>total_sunshine_duration</th>\n",
       "      <th>solar_radiation</th>\n",
       "      <th>mean_air_temperature</th>\n",
       "    </tr>\n",
       "  </thead>\n",
       "  <tbody>\n",
       "    <tr>\n",
       "      <th>0</th>\n",
       "      <td>Jan-10</td>\n",
       "      <td>75.5</td>\n",
       "      <td>5.5</td>\n",
       "      <td>75</td>\n",
       "      <td>14</td>\n",
       "      <td>40.4</td>\n",
       "      <td>3.8</td>\n",
       "      <td>-3.4</td>\n",
       "    </tr>\n",
       "    <tr>\n",
       "      <th>1</th>\n",
       "      <td>Feb-10</td>\n",
       "      <td>109.5</td>\n",
       "      <td>4.1</td>\n",
       "      <td>74</td>\n",
       "      <td>17</td>\n",
       "      <td>48.8</td>\n",
       "      <td>6.2</td>\n",
       "      <td>-4.9</td>\n",
       "    </tr>\n",
       "    <tr>\n",
       "      <th>2</th>\n",
       "      <td>Mar-10</td>\n",
       "      <td>100.5</td>\n",
       "      <td>4.7</td>\n",
       "      <td>68</td>\n",
       "      <td>29</td>\n",
       "      <td>108.0</td>\n",
       "      <td>10.5</td>\n",
       "      <td>-1.4</td>\n",
       "    </tr>\n",
       "    <tr>\n",
       "      <th>3</th>\n",
       "      <td>Apr-10</td>\n",
       "      <td>94.0</td>\n",
       "      <td>4.3</td>\n",
       "      <td>77</td>\n",
       "      <td>36</td>\n",
       "      <td>146.2</td>\n",
       "      <td>13.9</td>\n",
       "      <td>3.5</td>\n",
       "    </tr>\n",
       "    <tr>\n",
       "      <th>4</th>\n",
       "      <td>May-10</td>\n",
       "      <td>76.5</td>\n",
       "      <td>4.9</td>\n",
       "      <td>86</td>\n",
       "      <td>37</td>\n",
       "      <td>168.6</td>\n",
       "      <td>16.5</td>\n",
       "      <td>7.3</td>\n",
       "    </tr>\n",
       "  </tbody>\n",
       "</table>\n",
       "</div>"
      ],
      "text/plain": [
       "     year  total_precipitation  mean_wind_speed  mean_relative_humidity  \\\n",
       "0  Jan-10                 75.5              5.5                      75   \n",
       "1  Feb-10                109.5              4.1                      74   \n",
       "2  Mar-10                100.5              4.7                      68   \n",
       "3  Apr-10                 94.0              4.3                      77   \n",
       "4  May-10                 76.5              4.9                      86   \n",
       "\n",
       "   percentage_possible_sunshine  total_sunshine_duration  solar_radiation  \\\n",
       "0                            14                     40.4              3.8   \n",
       "1                            17                     48.8              6.2   \n",
       "2                            29                    108.0             10.5   \n",
       "3                            36                    146.2             13.9   \n",
       "4                            37                    168.6             16.5   \n",
       "\n",
       "   mean_air_temperature  \n",
       "0                  -3.4  \n",
       "1                  -4.9  \n",
       "2                  -1.4  \n",
       "3                   3.5  \n",
       "4                   7.3  "
      ]
     },
     "execution_count": 3,
     "metadata": {},
     "output_type": "execute_result"
    }
   ],
   "source": [
    "dataset.head() #show the first 5 rows of the dataset"
   ]
  },
  {
   "cell_type": "code",
   "execution_count": 4,
   "id": "established-grade",
   "metadata": {},
   "outputs": [],
   "source": [
    "X = dataset.iloc[:, 1:-1].values #select All rows, all columns excluding the first and the last column\n",
    "y = dataset.iloc[:, -1].values #select All rows, last column\n",
    "\n",
    "#dates = X[:,0]\n",
    "dates = dataset.iloc[:,0] #store the dates from the dataset (first column) in a variable, to be used when plotting graphs"
   ]
  },
  {
   "cell_type": "code",
   "execution_count": 5,
   "id": "tutorial-universal",
   "metadata": {},
   "outputs": [
    {
     "data": {
      "text/plain": [
       "LinearRegression()"
      ]
     },
     "execution_count": 5,
     "metadata": {},
     "output_type": "execute_result"
    }
   ],
   "source": [
    "#train a linear regression model on the data\n",
    "model = LinearRegression()\n",
    "model.fit(X, y)"
   ]
  },
  {
   "cell_type": "code",
   "execution_count": 6,
   "id": "charitable-restriction",
   "metadata": {},
   "outputs": [
    {
     "name": "stdout",
     "output_type": "stream",
     "text": [
      "coefficient of determination:  0.7257168471291479\n"
     ]
    }
   ],
   "source": [
    "#find the coefficient of determination to see how well the model performs\n",
    "r_sq = model.score(X, y)\n",
    "print('coefficient of determination: ', r_sq)"
   ]
  },
  {
   "cell_type": "code",
   "execution_count": 7,
   "id": "fiscal-wedding",
   "metadata": {},
   "outputs": [
    {
     "name": "stdout",
     "output_type": "stream",
     "text": [
      "predicted response: \n",
      "[-5.68458360e-02  1.84215811e+00  2.17782636e+00  1.01616692e+01\n",
      "  1.52095489e+01  1.74103047e+01  1.68574620e+01  1.75325494e+01\n",
      "  1.63522974e+01  1.20347540e+01  1.21015647e+00  2.98256011e+00\n",
      "  1.20503479e+00 -1.90991860e+00  5.90311993e+00  5.61285518e+00\n",
      "  1.19536057e+01  1.08029293e+01  1.47398523e+01  1.70011601e+01\n",
      "  2.11112336e+01  8.50900733e+00  1.20189212e+00  4.68021011e+00\n",
      " -1.83536221e-01 -2.18501159e+00  4.53598546e+00  1.28771735e+01\n",
      "  1.15904693e+01  1.68057897e+01  1.43218766e+01  1.71291153e+01\n",
      "  1.56381048e+01  5.15606279e+00  1.69298857e+00  8.72102562e-01\n",
      "  1.34261087e-02 -4.31477226e+00 -2.46078223e+00  7.77289640e+00\n",
      "  7.99318738e+00  1.39688584e+01  1.79778381e+01  1.16374030e+01\n",
      "  1.07980603e+01  7.76172251e+00  4.53019302e+00 -2.60609918e+00\n",
      "  3.02370700e-01 -3.78303540e+00  5.53137215e+00  8.37219152e+00\n",
      "  8.45529332e+00  1.62956331e+01  1.40717430e+01  2.47140216e+01\n",
      "  1.74608877e+01  3.22984380e+00  3.13170077e+00 -1.90339380e+00\n",
      " -1.92122803e+00 -3.07083256e+00  8.31674298e+00  4.82401074e+00\n",
      "  1.01146107e+01  1.19908689e+01  1.66698405e+01  8.86220656e+00\n",
      "  1.38968024e+01  2.47589337e+00 -1.73493788e+00  5.22905196e-01\n",
      " -4.38116498e+00 -2.07212812e+00  2.22353383e+00  6.65359832e+00\n",
      "  1.33801794e+01  1.64941722e+01  1.91032184e+01  1.59426938e+01\n",
      "  2.03431235e+01 -2.07742431e+00 -1.08305750e+00 -7.15922945e+00\n",
      " -4.43833234e+00 -5.08739965e+00  8.54949528e+00  6.03587560e+00\n",
      "  7.85165194e+00  7.23001904e+00  1.03775597e+01  1.22575051e+01\n",
      "  1.60848179e+01  6.12175260e+00  4.36224290e+00  2.28110448e+00\n",
      "  1.60875815e+00 -2.26384387e+00  5.40017596e+00  7.56237322e+00\n",
      "  1.53058960e+01  7.87889935e+00  1.53022256e+01  1.60604243e+01\n",
      "  1.34970170e+01  9.88432957e+00 -1.20544983e+00 -3.60203504e+00\n",
      " -3.34716041e+00 -1.39737011e+00  8.14691323e+00  1.02261277e+01\n",
      "  1.76766862e+01  8.10505095e+00  1.46264441e+01  1.30905469e+01\n",
      "  1.14153341e+01  5.89532940e+00 -4.12916106e+00 -1.00530504e+00]\n"
     ]
    }
   ],
   "source": [
    "y_pred = model.predict(X) #using the trained model, try to predict outcomes\n",
    "print('predicted response: ', y_pred, sep='\\n') #display predictions"
   ]
  },
  {
   "cell_type": "code",
   "execution_count": 8,
   "id": "powerful-chocolate",
   "metadata": {},
   "outputs": [
    {
     "name": "stdout",
     "output_type": "stream",
     "text": [
      "Mean Absolute Error: 3.748423445469868\n",
      "Mean Squared Error: 20.283769435561734\n",
      "Root Mean Squared Error: 4.503750596509728\n"
     ]
    }
   ],
   "source": [
    "#model evauluation metrics\n",
    "print('Mean Absolute Error:', metrics.mean_absolute_error(y, y_pred))  \n",
    "print('Mean Squared Error:', metrics.mean_squared_error(y, y_pred))  \n",
    "print('Root Mean Squared Error:', np.sqrt(metrics.mean_squared_error(y, y_pred)))"
   ]
  },
  {
   "cell_type": "code",
   "execution_count": 9,
   "id": "descending-phrase",
   "metadata": {},
   "outputs": [
    {
     "data": {
      "text/plain": [
       "Text(0.5, 1.0, 'Mean air temperature - actual and predicted values')"
      ]
     },
     "execution_count": 9,
     "metadata": {},
     "output_type": "execute_result"
    },
    {
     "data": {
      "image/png": "[encoded data removed]",
      "text/plain": [
       "<Figure size 720x360 with 1 Axes>"
      ]
     },
     "metadata": {
      "needs_background": "light"
     },
     "output_type": "display_data"
    }
   ],
   "source": [
    "df = pd.DataFrame(dict(actual_values=y[-13:-1], predicted_values=y_pred[-13:-1]), index=dates[-13:-1]) #create a dataframe containing the last 12 actual and predicted values with the month and year as the index of the dataframe\n",
    "g = sns.relplot(kind=\"line\", data=df) #plot a line graph using the dataframe\n",
    "g.fig.autofmt_xdate() #adjust the size of the x-axis so the dates have some spacing\n",
    "g.fig.set_size_inches(10, 5) #set the size of the figure\n",
    "plt.xlabel('Dates') #set the label for the x-axis\n",
    "plt.ylabel('Mean air temperature') #set the label for the y-axis\n",
    "plt.title('Mean air temperature - actual and predicted values') #set the title of the graph"
   ]
  },
  {
   "cell_type": "code",
   "execution_count": null,
   "id": "exciting-spare",
   "metadata": {},
   "outputs": [],
   "source": []
  }
 ],
 "metadata": {
  "kernelspec": {
   "display_name": "Python 3",
   "language": "python",
   "name": "python3"
  },
  "language_info": {
   "codemirror_mode": {
    "name": "ipython",
    "version": 3
   },
   "file_extension": ".py",
   "mimetype": "text/x-python",
   "name": "python",
   "nbconvert_exporter": "python",
   "pygments_lexer": "ipython3",
   "version": "3.8.8"
  }
 },
 "nbformat": 4,
 "nbformat_minor": 5
}
