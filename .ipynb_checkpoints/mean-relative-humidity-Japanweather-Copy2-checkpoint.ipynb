{
 "cells": [
  {
   "cell_type": "code",
   "execution_count": 1,
   "metadata": {},
   "outputs": [],
   "source": [
    "import numpy as np\n",
    "import pandas as pd\n",
    "import matplotlib.pyplot as plt\n",
    "from sklearn.linear_model import LinearRegression\n",
    "import statsmodels.api as sm"
   ]
  },
  {
   "cell_type": "code",
   "execution_count": 2,
   "metadata": {},
   "outputs": [],
   "source": [
    "# Importing the dataset\n",
    "dataset = pd.read_csv('mean-wind-speed.csv')"
   ]
  },
  {
   "cell_type": "code",
   "execution_count": 3,
   "metadata": {},
   "outputs": [
    {
     "data": {
      "text/html": [
       "<div>\n",
       "<style scoped>\n",
       "    .dataframe tbody tr th:only-of-type {\n",
       "        vertical-align: middle;\n",
       "    }\n",
       "\n",
       "    .dataframe tbody tr th {\n",
       "        vertical-align: top;\n",
       "    }\n",
       "\n",
       "    .dataframe thead th {\n",
       "        text-align: right;\n",
       "    }\n",
       "</style>\n",
       "<table border=\"1\" class=\"dataframe\">\n",
       "  <thead>\n",
       "    <tr style=\"text-align: right;\">\n",
       "      <th></th>\n",
       "      <th>year</th>\n",
       "      <th>total_precipitation</th>\n",
       "      <th>mean_air_temperature</th>\n",
       "      <th>mean_relative_humidity</th>\n",
       "      <th>percentage_possible_sunshine</th>\n",
       "      <th>total_sunshine_duration</th>\n",
       "      <th>solar_radiation</th>\n",
       "      <th>mean_wind_speed</th>\n",
       "    </tr>\n",
       "  </thead>\n",
       "  <tbody>\n",
       "    <tr>\n",
       "      <th>0</th>\n",
       "      <td>Jan-10</td>\n",
       "      <td>75.5</td>\n",
       "      <td>-3.4</td>\n",
       "      <td>75</td>\n",
       "      <td>14</td>\n",
       "      <td>40.4</td>\n",
       "      <td>8.1</td>\n",
       "      <td>5.5</td>\n",
       "    </tr>\n",
       "    <tr>\n",
       "      <th>1</th>\n",
       "      <td>Feb-10</td>\n",
       "      <td>109.5</td>\n",
       "      <td>-4.9</td>\n",
       "      <td>74</td>\n",
       "      <td>17</td>\n",
       "      <td>48.8</td>\n",
       "      <td>9.1</td>\n",
       "      <td>4.1</td>\n",
       "    </tr>\n",
       "    <tr>\n",
       "      <th>2</th>\n",
       "      <td>Mar-10</td>\n",
       "      <td>100.5</td>\n",
       "      <td>-1.4</td>\n",
       "      <td>68</td>\n",
       "      <td>29</td>\n",
       "      <td>108.0</td>\n",
       "      <td>12.2</td>\n",
       "      <td>4.7</td>\n",
       "    </tr>\n",
       "    <tr>\n",
       "      <th>3</th>\n",
       "      <td>Apr-10</td>\n",
       "      <td>94.0</td>\n",
       "      <td>3.5</td>\n",
       "      <td>77</td>\n",
       "      <td>36</td>\n",
       "      <td>146.2</td>\n",
       "      <td>14.5</td>\n",
       "      <td>4.3</td>\n",
       "    </tr>\n",
       "    <tr>\n",
       "      <th>4</th>\n",
       "      <td>May-10</td>\n",
       "      <td>76.5</td>\n",
       "      <td>7.3</td>\n",
       "      <td>86</td>\n",
       "      <td>37</td>\n",
       "      <td>168.6</td>\n",
       "      <td>19.2</td>\n",
       "      <td>4.9</td>\n",
       "    </tr>\n",
       "  </tbody>\n",
       "</table>\n",
       "</div>"
      ],
      "text/plain": [
       "     year  total_precipitation  mean_air_temperature  mean_relative_humidity  \\\n",
       "0  Jan-10                 75.5                  -3.4                      75   \n",
       "1  Feb-10                109.5                  -4.9                      74   \n",
       "2  Mar-10                100.5                  -1.4                      68   \n",
       "3  Apr-10                 94.0                   3.5                      77   \n",
       "4  May-10                 76.5                   7.3                      86   \n",
       "\n",
       "   percentage_possible_sunshine  total_sunshine_duration  solar_radiation  \\\n",
       "0                            14                     40.4              8.1   \n",
       "1                            17                     48.8              9.1   \n",
       "2                            29                    108.0             12.2   \n",
       "3                            36                    146.2             14.5   \n",
       "4                            37                    168.6             19.2   \n",
       "\n",
       "   mean_wind_speed  \n",
       "0              5.5  \n",
       "1              4.1  \n",
       "2              4.7  \n",
       "3              4.3  \n",
       "4              4.9  "
      ]
     },
     "execution_count": 3,
     "metadata": {},
     "output_type": "execute_result"
    }
   ],
   "source": [
    "dataset.head()"
   ]
  },
  {
   "cell_type": "code",
   "execution_count": 4,
   "metadata": {},
   "outputs": [],
   "source": [
    "X = dataset.iloc[:, 1:-1].values #All rows, all columns excluding the last column indexed -1\n",
    "y = dataset.iloc[:, -1].values #All rows, last column\n"
   ]
  },
  {
   "cell_type": "code",
   "execution_count": 5,
   "metadata": {},
   "outputs": [
    {
     "name": "stdout",
     "output_type": "stream",
     "text": [
      "(120, 6)\n",
      "(120,)\n"
     ]
    }
   ],
   "source": [
    "print(X.shape)\n",
    "print(y.shape)"
   ]
  },
  {
   "cell_type": "code",
   "execution_count": 6,
   "metadata": {},
   "outputs": [],
   "source": [
    "model = LinearRegression()"
   ]
  },
  {
   "cell_type": "code",
   "execution_count": 7,
   "metadata": {},
   "outputs": [
    {
     "data": {
      "text/plain": [
       "LinearRegression()"
      ]
     },
     "execution_count": 7,
     "metadata": {},
     "output_type": "execute_result"
    }
   ],
   "source": [
    "model.fit(X, y)"
   ]
  },
  {
   "cell_type": "code",
   "execution_count": 8,
   "metadata": {},
   "outputs": [
    {
     "name": "stdout",
     "output_type": "stream",
     "text": [
      "coefficient of determination:  0.319700620301411\n"
     ]
    }
   ],
   "source": [
    "r_sq = model.score(X, y)\n",
    "print('coefficient of determination: ', r_sq)"
   ]
  },
  {
   "cell_type": "code",
   "execution_count": 9,
   "metadata": {},
   "outputs": [
    {
     "name": "stdout",
     "output_type": "stream",
     "text": [
      "predicted response: \n",
      "[4.88854329 4.97414415 5.10817791 4.72362618 4.56007643 4.2245923\n",
      " 4.42212944 4.17503987 4.19105132 4.33590916 4.75229399 4.79407606\n",
      " 4.84101673 4.95032813 4.97217801 4.86564035 4.64435239 4.37903377\n",
      " 4.2099738  4.14226692 4.34888874 4.54190166 4.74164965 4.89343815\n",
      " 4.98961576 5.06014139 4.88757937 4.60144069 4.59835776 4.35509556\n",
      " 4.25394441 4.35759492 4.24408509 4.64697448 4.72050994 5.00726232\n",
      " 5.04100365 5.07987056 5.2593093  4.8291602  4.87875241 4.40291539\n",
      " 3.89465477 4.38845684 4.44144957 4.41226763 4.83574778 4.93298597\n",
      " 5.121631   4.87837545 4.75558834 4.85058377 4.72883049 4.43220824\n",
      " 4.21137939 4.14606273 4.45718344 4.7110863  4.65877089 5.05066186\n",
      " 4.95011134 4.77846632 4.7403883  4.87819353 5.01149551 4.51337823\n",
      " 4.37524109 4.16837814 4.19813109 5.04006023 4.70486779 5.05988439\n",
      " 5.36552529 5.36443674 5.13974689 4.89791979 4.83940447 4.49441599\n",
      " 4.18305523 4.28451843 4.25458057 5.27153342 5.24136853 5.1918382\n",
      " 5.17527547 5.22311715 4.80677674 4.96105862 4.7449281  4.73143967\n",
      " 4.42986243 4.11782346 4.30383261 4.54237532 4.86275392 5.00030728\n",
      " 4.9850185  5.19334937 4.95097378 4.74409754 4.58850038 4.6599501\n",
      " 4.35910687 4.18037285 4.05000331 4.54634472 4.99165472 5.10025975\n",
      " 5.11764471 5.02750359 4.74232328 4.69726355 4.77257657 4.3503828\n",
      " 4.09198452 4.31640383 4.19227446 4.41344193 5.12587681 5.05433571]\n"
     ]
    }
   ],
   "source": [
    "y_pred = model.predict(X)\n",
    "print('predicted response: ', y_pred, sep='\\n')"
   ]
  },
  {
   "cell_type": "code",
   "execution_count": 10,
   "metadata": {},
   "outputs": [
    {
     "data": {
      "text/plain": [
       "(120,)"
      ]
     },
     "execution_count": 10,
     "metadata": {},
     "output_type": "execute_result"
    }
   ],
   "source": [
    "y_pred.shape"
   ]
  },
  {
   "cell_type": "code",
   "execution_count": 11,
   "metadata": {},
   "outputs": [
    {
     "name": "stdout",
     "output_type": "stream",
     "text": [
      "Mean Absolute Error: 0.3921978841763142\n",
      "Mean Squared Error: 0.2512567651385541\n",
      "Root Mean Squared Error: 0.5012551896375279\n"
     ]
    }
   ],
   "source": [
    "from sklearn import metrics\n",
    "\n",
    "print('Mean Absolute Error:', metrics.mean_absolute_error(y, y_pred))  \n",
    "print('Mean Squared Error:', metrics.mean_squared_error(y, y_pred))  \n",
    "print('Root Mean Squared Error:', np.sqrt(metrics.mean_squared_error(y, y_pred)))"
   ]
  },
  {
   "cell_type": "code",
   "execution_count": null,
   "metadata": {},
   "outputs": [],
   "source": []
  }
 ],
 "metadata": {
  "kernelspec": {
   "display_name": "Python 3",
   "language": "python",
   "name": "python3"
  },
  "language_info": {
   "codemirror_mode": {
    "name": "ipython",
    "version": 3
   },
   "file_extension": ".py",
   "mimetype": "text/x-python",
   "name": "python",
   "nbconvert_exporter": "python",
   "pygments_lexer": "ipython3",
   "version": "3.8.5"
  }
 },
 "nbformat": 4,
 "nbformat_minor": 5
}
