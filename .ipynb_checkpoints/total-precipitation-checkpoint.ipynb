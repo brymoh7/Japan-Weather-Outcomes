{
 "cells": [
  {
   "cell_type": "code",
   "execution_count": 1,
   "id": "graphic-confusion",
   "metadata": {},
   "outputs": [],
   "source": [
    "#import needed libraries\n",
    "import numpy as np #for numerical operations\n",
    "import pandas as pd #for file operations\n",
    "import matplotlib.pyplot as plt #for plotting graphs\n",
    "import seaborn as sns #also for plotting graphs\n",
    "from sklearn.linear_model import LinearRegression #for machine learning \n",
    "from sklearn import metrics #for testing the machine learning model"
   ]
  },
  {
   "cell_type": "code",
   "execution_count": 2,
   "id": "cathedral-fitness",
   "metadata": {},
   "outputs": [],
   "source": [
    "# Importing the dataset\n",
    "dataset = pd.read_csv('total-precipitation-Japanweather1.csv')"
   ]
  },
  {
   "cell_type": "code",
   "execution_count": 3,
   "id": "burning-closure",
   "metadata": {},
   "outputs": [
    {
     "data": {
      "text/html": [
       "<div>\n",
       "<style scoped>\n",
       "    .dataframe tbody tr th:only-of-type {\n",
       "        vertical-align: middle;\n",
       "    }\n",
       "\n",
       "    .dataframe tbody tr th {\n",
       "        vertical-align: top;\n",
       "    }\n",
       "\n",
       "    .dataframe thead th {\n",
       "        text-align: right;\n",
       "    }\n",
       "</style>\n",
       "<table border=\"1\" class=\"dataframe\">\n",
       "  <thead>\n",
       "    <tr style=\"text-align: right;\">\n",
       "      <th></th>\n",
       "      <th>year</th>\n",
       "      <th>solar_radiation</th>\n",
       "      <th>mean_air_temperature</th>\n",
       "      <th>mean_wind_speed</th>\n",
       "      <th>mean_relative_humidity</th>\n",
       "      <th>percentage_possible_sunshine</th>\n",
       "      <th>total_sunshine_duration</th>\n",
       "      <th>total_precipitation</th>\n",
       "    </tr>\n",
       "  </thead>\n",
       "  <tbody>\n",
       "    <tr>\n",
       "      <th>0</th>\n",
       "      <td>Jan-10</td>\n",
       "      <td>3.8</td>\n",
       "      <td>-3.4</td>\n",
       "      <td>5.5</td>\n",
       "      <td>75</td>\n",
       "      <td>14</td>\n",
       "      <td>40.4</td>\n",
       "      <td>75.5</td>\n",
       "    </tr>\n",
       "    <tr>\n",
       "      <th>1</th>\n",
       "      <td>Feb-10</td>\n",
       "      <td>6.2</td>\n",
       "      <td>-4.9</td>\n",
       "      <td>4.1</td>\n",
       "      <td>74</td>\n",
       "      <td>17</td>\n",
       "      <td>48.8</td>\n",
       "      <td>109.5</td>\n",
       "    </tr>\n",
       "    <tr>\n",
       "      <th>2</th>\n",
       "      <td>Mar-10</td>\n",
       "      <td>10.5</td>\n",
       "      <td>-1.4</td>\n",
       "      <td>4.7</td>\n",
       "      <td>68</td>\n",
       "      <td>29</td>\n",
       "      <td>108.0</td>\n",
       "      <td>100.5</td>\n",
       "    </tr>\n",
       "    <tr>\n",
       "      <th>3</th>\n",
       "      <td>Apr-10</td>\n",
       "      <td>13.9</td>\n",
       "      <td>3.5</td>\n",
       "      <td>4.3</td>\n",
       "      <td>77</td>\n",
       "      <td>36</td>\n",
       "      <td>146.2</td>\n",
       "      <td>94.0</td>\n",
       "    </tr>\n",
       "    <tr>\n",
       "      <th>4</th>\n",
       "      <td>May-10</td>\n",
       "      <td>16.5</td>\n",
       "      <td>7.3</td>\n",
       "      <td>4.9</td>\n",
       "      <td>86</td>\n",
       "      <td>37</td>\n",
       "      <td>168.6</td>\n",
       "      <td>76.5</td>\n",
       "    </tr>\n",
       "  </tbody>\n",
       "</table>\n",
       "</div>"
      ],
      "text/plain": [
       "     year  solar_radiation  mean_air_temperature  mean_wind_speed  \\\n",
       "0  Jan-10              3.8                  -3.4              5.5   \n",
       "1  Feb-10              6.2                  -4.9              4.1   \n",
       "2  Mar-10             10.5                  -1.4              4.7   \n",
       "3  Apr-10             13.9                   3.5              4.3   \n",
       "4  May-10             16.5                   7.3              4.9   \n",
       "\n",
       "   mean_relative_humidity  percentage_possible_sunshine  \\\n",
       "0                      75                            14   \n",
       "1                      74                            17   \n",
       "2                      68                            29   \n",
       "3                      77                            36   \n",
       "4                      86                            37   \n",
       "\n",
       "   total_sunshine_duration  total_precipitation  \n",
       "0                     40.4                 75.5  \n",
       "1                     48.8                109.5  \n",
       "2                    108.0                100.5  \n",
       "3                    146.2                 94.0  \n",
       "4                    168.6                 76.5  "
      ]
     },
     "execution_count": 3,
     "metadata": {},
     "output_type": "execute_result"
    }
   ],
   "source": [
    "dataset.head() #show the first 5 rows of the dataset"
   ]
  },
  {
   "cell_type": "code",
   "execution_count": 4,
   "id": "liberal-excerpt",
   "metadata": {},
   "outputs": [],
   "source": [
    "X = dataset.iloc[:, 1:-1].values #select All rows, all columns excluding the first and the last column\n",
    "y = dataset.iloc[:, -1].values #select All rows, last column\n",
    "\n",
    "#dates = X[:,0]\n",
    "dates = dataset.iloc[:,0] #store the dates from the dataset (first column) in a variable, to be used when plotting graphs"
   ]
  },
  {
   "cell_type": "code",
   "execution_count": 5,
   "id": "swiss-rwanda",
   "metadata": {},
   "outputs": [
    {
     "data": {
      "text/plain": [
       "LinearRegression()"
      ]
     },
     "execution_count": 5,
     "metadata": {},
     "output_type": "execute_result"
    }
   ],
   "source": [
    "#train a linear regression model on the data\n",
    "model = LinearRegression()\n",
    "model.fit(X, y)"
   ]
  },
  {
   "cell_type": "code",
   "execution_count": 6,
   "id": "fuzzy-treat",
   "metadata": {},
   "outputs": [
    {
     "name": "stdout",
     "output_type": "stream",
     "text": [
      "coefficient of determination:  0.33852916468132177\n"
     ]
    }
   ],
   "source": [
    "#find the coefficient of determination to see how well the model performs\n",
    "r_sq = model.score(X, y)\n",
    "print('coefficient of determination: ', r_sq)"
   ]
  },
  {
   "cell_type": "code",
   "execution_count": 7,
   "id": "geological-sheffield",
   "metadata": {},
   "outputs": [
    {
     "name": "stdout",
     "output_type": "stream",
     "text": [
      "predicted response: \n",
      "[114.84977512  75.37950103  46.33488697  61.29787012  81.37355515\n",
      "  73.79397469 148.1355913  138.27886965 113.52688448 130.0838847\n",
      " 134.47734006 135.75658939  97.93866965  64.93148955  34.99430392\n",
      "  60.35368447  81.7040043   90.43577474 112.92269684 137.80067378\n",
      " 145.06242305 135.09915173 128.03036768 125.65202128  93.54936753\n",
      "  55.02179291  45.1264569   46.0374746   78.53284638  61.61114841\n",
      " 121.07499935 131.203678   167.52885961 126.67963647 151.37294613\n",
      " 123.7348727   99.55201824  62.09413776  50.22200451  48.8299611\n",
      "  81.48637782  70.12882482  91.88882618 150.28647381 129.80926504\n",
      " 132.06280649 129.09442776 125.9403089   87.77232161  58.09982969\n",
      "  29.90262713  28.67047189  74.4428133   72.20410299 110.08411003\n",
      " 126.2304448  129.14686639 112.47104774 120.9951046  112.18216068\n",
      " 103.29962191  84.98208406  94.0426961   45.3138767   51.40362966\n",
      "  89.64707481 119.71691048 122.1504262  122.73753356 112.00690502\n",
      " 114.59280112 110.82766123  81.47421888  72.12061262  36.90177428\n",
      "  58.92404578  42.38986311  80.17816845 110.04991702 134.47423843\n",
      " 137.90478185 100.29148593 104.64850568  93.26855152  84.2336622\n",
      "  63.16256898  35.53359943  40.67859722  53.2401137   93.65403427\n",
      " 117.15804778 115.87640161 114.54095089 112.55164422 133.25069984\n",
      " 115.79080606 115.91416011  67.83207228  53.61788537  46.68008629\n",
      "  74.35938961  98.99683878 101.51052769 133.84026091 103.36903598\n",
      " 123.54494681 116.10225057 111.91688032  97.18235936  48.99454138\n",
      "  67.05441733  27.47551637  56.44762454  77.81442306 122.84719736\n",
      " 158.60137478 109.01614161 128.16656881 115.86503503 115.04655914]\n"
     ]
    }
   ],
   "source": [
    "y_pred = model.predict(X) #using the trained model, try to predict outcomes\n",
    "print('predicted response: ', y_pred, sep='\\n') #display predictions"
   ]
  },
  {
   "cell_type": "code",
   "execution_count": 8,
   "id": "measured-tokyo",
   "metadata": {},
   "outputs": [
    {
     "name": "stdout",
     "output_type": "stream",
     "text": [
      "Mean Absolute Error: 35.251509162292436\n",
      "Mean Squared Error: 2194.6328869677072\n",
      "Root Mean Squared Error: 46.846909043902855\n"
     ]
    }
   ],
   "source": [
    "#model evauluation metrics\n",
    "print('Mean Absolute Error:', metrics.mean_absolute_error(y, y_pred))  \n",
    "print('Mean Squared Error:', metrics.mean_squared_error(y, y_pred))  \n",
    "print('Root Mean Squared Error:', np.sqrt(metrics.mean_squared_error(y, y_pred)))"
   ]
  },
  {
   "cell_type": "code",
   "execution_count": 9,
   "id": "hired-greek",
   "metadata": {},
   "outputs": [
    {
     "data": {
      "text/plain": [
       "Text(0.5, 1.0, 'Total precipitation - actual and predicted values')"
      ]
     },
     "execution_count": 9,
     "metadata": {},
     "output_type": "execute_result"
    },
    {
     "data": {
      "image/png": "[encoded data removed]",
      "text/plain": [
       "<Figure size 720x360 with 1 Axes>"
      ]
     },
     "metadata": {
      "needs_background": "light"
     },
     "output_type": "display_data"
    }
   ],
   "source": [
    "df = pd.DataFrame(dict(actual_values=y[-13:-1], predicted_values=y_pred[-13:-1]), index=dates[-13:-1]) #create a dataframe containing the last 12 actual and predicted values with the month and year as the index of the dataframe\n",
    "g = sns.relplot(kind=\"line\", data=df) #plot a line graph using the dataframe\n",
    "g.fig.autofmt_xdate() #adjust the size of the x-axis so the dates have some spacing\n",
    "g.fig.set_size_inches(10, 5) #set the size of the figure\n",
    "plt.xlabel('Dates') #set the label for the x-axis\n",
    "plt.ylabel('Total precipitation') #set the label for the y-axis\n",
    "plt.title('Total precipitation - actual and predicted values') #set the title of the graph"
   ]
  },
  {
   "cell_type": "code",
   "execution_count": null,
   "id": "civic-carter",
   "metadata": {},
   "outputs": [],
   "source": []
  }
 ],
 "metadata": {
  "kernelspec": {
   "display_name": "Python 3",
   "language": "python",
   "name": "python3"
  },
  "language_info": {
   "codemirror_mode": {
    "name": "ipython",
    "version": 3
   },
   "file_extension": ".py",
   "mimetype": "text/x-python",
   "name": "python",
   "nbconvert_exporter": "python",
   "pygments_lexer": "ipython3",
   "version": "3.8.8"
  }
 },
 "nbformat": 4,
 "nbformat_minor": 5
}
