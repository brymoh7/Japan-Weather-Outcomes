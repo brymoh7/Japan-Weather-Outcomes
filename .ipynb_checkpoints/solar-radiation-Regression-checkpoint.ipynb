{
 "cells": [
  {
   "cell_type": "code",
   "execution_count": 122,
   "id": "standing-currency",
   "metadata": {},
   "outputs": [],
   "source": [
    "import numpy as np\n",
    "import pandas as pd\n",
    "import matplotlib.pyplot as plt\n",
    "from sklearn.linear_model import LinearRegression\n",
    "import statsmodels.api as sm"
   ]
  },
  {
   "cell_type": "code",
   "execution_count": 98,
   "id": "cardiovascular-monitoring",
   "metadata": {},
   "outputs": [],
   "source": [
    "# Importing the dataset\n",
    "dataset = pd.read_csv('Japanweather1.csv')"
   ]
  },
  {
   "cell_type": "code",
   "execution_count": 108,
   "id": "commercial-gateway",
   "metadata": {},
   "outputs": [
    {
     "data": {
      "text/html": [
       "<div>\n",
       "<style scoped>\n",
       "    .dataframe tbody tr th:only-of-type {\n",
       "        vertical-align: middle;\n",
       "    }\n",
       "\n",
       "    .dataframe tbody tr th {\n",
       "        vertical-align: top;\n",
       "    }\n",
       "\n",
       "    .dataframe thead th {\n",
       "        text-align: right;\n",
       "    }\n",
       "</style>\n",
       "<table border=\"1\" class=\"dataframe\">\n",
       "  <thead>\n",
       "    <tr style=\"text-align: right;\">\n",
       "      <th></th>\n",
       "      <th>year</th>\n",
       "      <th>solar_radiation</th>\n",
       "      <th>mean_air_temperature</th>\n",
       "      <th>mean_wind_speed</th>\n",
       "      <th>mean_relative_humidity</th>\n",
       "      <th>percentage_possible_sunshine</th>\n",
       "      <th>total_sunshine_duration</th>\n",
       "      <th>total_precipitation</th>\n",
       "    </tr>\n",
       "  </thead>\n",
       "  <tbody>\n",
       "    <tr>\n",
       "      <th>0</th>\n",
       "      <td>Jan-10</td>\n",
       "      <td>8.1</td>\n",
       "      <td>-3.4</td>\n",
       "      <td>5.5</td>\n",
       "      <td>75</td>\n",
       "      <td>14</td>\n",
       "      <td>40.4</td>\n",
       "      <td>75.5</td>\n",
       "    </tr>\n",
       "    <tr>\n",
       "      <th>1</th>\n",
       "      <td>Feb-10</td>\n",
       "      <td>9.1</td>\n",
       "      <td>-4.9</td>\n",
       "      <td>4.1</td>\n",
       "      <td>74</td>\n",
       "      <td>17</td>\n",
       "      <td>48.8</td>\n",
       "      <td>109.5</td>\n",
       "    </tr>\n",
       "    <tr>\n",
       "      <th>2</th>\n",
       "      <td>Mar-10</td>\n",
       "      <td>12.2</td>\n",
       "      <td>-1.4</td>\n",
       "      <td>4.7</td>\n",
       "      <td>68</td>\n",
       "      <td>29</td>\n",
       "      <td>108.0</td>\n",
       "      <td>100.5</td>\n",
       "    </tr>\n",
       "    <tr>\n",
       "      <th>3</th>\n",
       "      <td>Apr-10</td>\n",
       "      <td>14.5</td>\n",
       "      <td>3.5</td>\n",
       "      <td>4.3</td>\n",
       "      <td>77</td>\n",
       "      <td>36</td>\n",
       "      <td>146.2</td>\n",
       "      <td>94.0</td>\n",
       "    </tr>\n",
       "    <tr>\n",
       "      <th>4</th>\n",
       "      <td>May-10</td>\n",
       "      <td>19.2</td>\n",
       "      <td>7.3</td>\n",
       "      <td>4.9</td>\n",
       "      <td>86</td>\n",
       "      <td>37</td>\n",
       "      <td>168.6</td>\n",
       "      <td>76.5</td>\n",
       "    </tr>\n",
       "  </tbody>\n",
       "</table>\n",
       "</div>"
      ],
      "text/plain": [
       "     year  solar_radiation  mean_air_temperature  mean_wind_speed  \\\n",
       "0  Jan-10              8.1                  -3.4              5.5   \n",
       "1  Feb-10              9.1                  -4.9              4.1   \n",
       "2  Mar-10             12.2                  -1.4              4.7   \n",
       "3  Apr-10             14.5                   3.5              4.3   \n",
       "4  May-10             19.2                   7.3              4.9   \n",
       "\n",
       "   mean_relative_humidity  percentage_possible_sunshine  \\\n",
       "0                      75                            14   \n",
       "1                      74                            17   \n",
       "2                      68                            29   \n",
       "3                      77                            36   \n",
       "4                      86                            37   \n",
       "\n",
       "   total_sunshine_duration  total_precipitation  \n",
       "0                     40.4                 75.5  \n",
       "1                     48.8                109.5  \n",
       "2                    108.0                100.5  \n",
       "3                    146.2                 94.0  \n",
       "4                    168.6                 76.5  "
      ]
     },
     "execution_count": 108,
     "metadata": {},
     "output_type": "execute_result"
    }
   ],
   "source": [
    "dataset.head()"
   ]
  },
  {
   "cell_type": "code",
   "execution_count": 124,
   "id": "coordinated-place",
   "metadata": {},
   "outputs": [],
   "source": [
    "X = dataset.iloc[:, 1:-1].values #All rows, all columns excluding the last column indexed -1\n",
    "y = dataset.iloc[:, -1].values #All rows, last column\n",
    "\n",
    "#print ('\\n Input Feature X = ', X, '\\n The shape of X = ',X.shape,  ' \\n Output (Y) = ', y, '\\n Shape of y = ',y.shape)\n",
    "#print('Datatype of X and Y : ', type(X), type(y))"
   ]
  },
  {
   "cell_type": "code",
   "execution_count": 131,
   "id": "corresponding-marina",
   "metadata": {},
   "outputs": [
    {
     "name": "stdout",
     "output_type": "stream",
     "text": [
      "                                 OLS Regression Results                                \n",
      "=======================================================================================\n",
      "Dep. Variable:                      y   R-squared (uncentered):                   0.812\n",
      "Model:                            OLS   Adj. R-squared (uncentered):              0.802\n",
      "Method:                 Least Squares   F-statistic:                              81.88\n",
      "Date:                Fri, 18 Jun 2021   Prob (F-statistic):                    5.34e-39\n",
      "Time:                        17:52:16   Log-Likelihood:                         -635.96\n",
      "No. Observations:                 120   AIC:                                      1284.\n",
      "Df Residuals:                     114   BIC:                                      1301.\n",
      "Df Model:                           6                                                  \n",
      "Covariance Type:            nonrobust                                                  \n",
      "==============================================================================\n",
      "                 coef    std err          t      P>|t|      [0.025      0.975]\n",
      "------------------------------------------------------------------------------\n",
      "x1             0.2891      2.173      0.133      0.894      -4.015       4.594\n",
      "x2             4.7788      0.874      5.465      0.000       3.046       6.511\n",
      "x3             6.9307      7.145      0.970      0.334      -7.224      21.085\n",
      "x4             1.0478      0.507      2.067      0.041       0.043       2.052\n",
      "x5             3.9180      1.546      2.535      0.013       0.856       6.980\n",
      "x6            -1.4538      0.445     -3.269      0.001      -2.335      -0.573\n",
      "==============================================================================\n",
      "Omnibus:                       33.920   Durbin-Watson:                   1.989\n",
      "Prob(Omnibus):                  0.000   Jarque-Bera (JB):               66.056\n",
      "Skew:                           1.195   Prob(JB):                     4.53e-15\n",
      "Kurtosis:                       5.739   Cond. No.                         250.\n",
      "==============================================================================\n",
      "\n",
      "Notes:\n",
      "[1] R² is computed without centering (uncentered) since the model does not contain a constant.\n",
      "[2] Standard Errors assume that the covariance matrix of the errors is correctly specified.\n"
     ]
    }
   ],
   "source": [
    "X_opt = [0,1,2,3,4,5]\n",
    "regressor = sm.OLS(y, X[:,X_opt]).fit()\n",
    "print(regressor.summary())"
   ]
  },
  {
   "cell_type": "code",
   "execution_count": 132,
   "id": "blind-terrace",
   "metadata": {},
   "outputs": [
    {
     "name": "stdout",
     "output_type": "stream",
     "text": [
      "                                 OLS Regression Results                                \n",
      "=======================================================================================\n",
      "Dep. Variable:                      y   R-squared (uncentered):                   0.812\n",
      "Model:                            OLS   Adj. R-squared (uncentered):              0.803\n",
      "Method:                 Least Squares   F-statistic:                              99.10\n",
      "Date:                Fri, 18 Jun 2021   Prob (F-statistic):                    5.13e-40\n",
      "Time:                        18:00:02   Log-Likelihood:                         -635.97\n",
      "No. Observations:                 120   AIC:                                      1282.\n",
      "Df Residuals:                     115   BIC:                                      1296.\n",
      "Df Model:                           5                                                  \n",
      "Covariance Type:            nonrobust                                                  \n",
      "==============================================================================\n",
      "                 coef    std err          t      P>|t|      [0.025      0.975]\n",
      "------------------------------------------------------------------------------\n",
      "x1             4.7520      0.847      5.608      0.000       3.074       6.430\n",
      "x2             7.0791      7.027      1.007      0.316      -6.841      20.999\n",
      "x3             1.0738      0.466      2.305      0.023       0.151       1.997\n",
      "x4             3.7922      1.218      3.114      0.002       1.380       6.204\n",
      "x5            -1.4109      0.305     -4.630      0.000      -2.014      -0.807\n",
      "==============================================================================\n",
      "Omnibus:                       33.537   Durbin-Watson:                   1.991\n",
      "Prob(Omnibus):                  0.000   Jarque-Bera (JB):               64.935\n",
      "Skew:                           1.184   Prob(JB):                     7.93e-15\n",
      "Kurtosis:                       5.717   Cond. No.                         245.\n",
      "==============================================================================\n",
      "\n",
      "Notes:\n",
      "[1] R² is computed without centering (uncentered) since the model does not contain a constant.\n",
      "[2] Standard Errors assume that the covariance matrix of the errors is correctly specified.\n"
     ]
    }
   ],
   "source": [
    "X_opt = [1,2,3,4,5]\n",
    "regressor = sm.OLS(y, X[:,X_opt]).fit()\n",
    "print(regressor.summary())"
   ]
  },
  {
   "cell_type": "code",
   "execution_count": 133,
   "id": "labeled-dating",
   "metadata": {},
   "outputs": [
    {
     "name": "stdout",
     "output_type": "stream",
     "text": [
      "                                 OLS Regression Results                                \n",
      "=======================================================================================\n",
      "Dep. Variable:                      y   R-squared (uncentered):                   0.810\n",
      "Model:                            OLS   Adj. R-squared (uncentered):              0.803\n",
      "Method:                 Least Squares   F-statistic:                              123.6\n",
      "Date:                Fri, 18 Jun 2021   Prob (F-statistic):                    7.14e-41\n",
      "Time:                        18:00:54   Log-Likelihood:                         -636.49\n",
      "No. Observations:                 120   AIC:                                      1281.\n",
      "Df Residuals:                     116   BIC:                                      1292.\n",
      "Df Model:                           4                                                  \n",
      "Covariance Type:            nonrobust                                                  \n",
      "==============================================================================\n",
      "                 coef    std err          t      P>|t|      [0.025      0.975]\n",
      "------------------------------------------------------------------------------\n",
      "x1             4.3526      0.749      5.812      0.000       2.869       5.836\n",
      "x2             1.5162      0.155      9.750      0.000       1.208       1.824\n",
      "x3             4.2847      1.115      3.842      0.000       2.076       6.494\n",
      "x4            -1.5154      0.287     -5.289      0.000      -2.083      -0.948\n",
      "==============================================================================\n",
      "Omnibus:                       31.088   Durbin-Watson:                   1.951\n",
      "Prob(Omnibus):                  0.000   Jarque-Bera (JB):               56.733\n",
      "Skew:                           1.126   Prob(JB):                     4.79e-13\n",
      "Kurtosis:                       5.504   Cond. No.                         42.2\n",
      "==============================================================================\n",
      "\n",
      "Notes:\n",
      "[1] R² is computed without centering (uncentered) since the model does not contain a constant.\n",
      "[2] Standard Errors assume that the covariance matrix of the errors is correctly specified.\n"
     ]
    }
   ],
   "source": [
    "X_opt = [1,3,4,5]\n",
    "regressor = sm.OLS(y, X[:,X_opt]).fit()\n",
    "print(regressor.summary())"
   ]
  },
  {
   "cell_type": "code",
   "execution_count": 110,
   "id": "controversial-reasoning",
   "metadata": {},
   "outputs": [
    {
     "data": {
      "text/plain": [
       "array([ 75.5, 109.5, 100.5,  94. ,  76.5,  31.5, 233.5,  99.5, 170.5,\n",
       "        97. , 108.5, 116. ,  64.5,  39.5,  58. ,  92. ,  68.5,  67. ,\n",
       "        51. ,  56.5, 312. , 116. ,  92.5, 186.5,  79.5,  76.5,  52. ,\n",
       "        43. ,  64.5,  23.5, 107. , 129.5, 169. , 110.5, 157. , 147.5,\n",
       "       124. ,  49. ,  69.5,  78. ,  52. ,  29. ,  23.5, 116. , 110. ,\n",
       "       106.5, 194.5,  93.5, 105. ,  44. ,  20. ,  34.5,  62. , 144.5,\n",
       "        44. , 275.5, 256.5,  58.5, 103.5, 143. ,  55.5,  48.5, 105.5,\n",
       "        40. ,  82. , 132. , 205.5,  20.5, 103.5, 182.5,  62.5, 110. ,\n",
       "       118.5, 115.5,  40. ,  82.5,  41.5, 146. , 154. , 112. , 316. ,\n",
       "       132.5, 129.5,  34.5,  47.5,  37.5,  43. ,  68.5,  33. ,  86.5,\n",
       "        97. ,  70. , 115. , 104. , 177.5, 153. , 122. ,  75. ,  95.5,\n",
       "        32. , 102. , 114. , 121.5,  94. ,  56. , 160. ,  70. ,  72. ,\n",
       "        56. ,  46.5,  35.5,  11. ,  48. ,  48.5,  88. , 163.5,  36.5,\n",
       "        55. ,  69. ,  91.5])"
      ]
     },
     "execution_count": 110,
     "metadata": {},
     "output_type": "execute_result"
    }
   ],
   "source": [
    "y"
   ]
  },
  {
   "cell_type": "code",
   "execution_count": 103,
   "id": "directed-rubber",
   "metadata": {},
   "outputs": [],
   "source": [
    "#X = X.reshape(-1,1)"
   ]
  },
  {
   "cell_type": "code",
   "execution_count": 135,
   "id": "anticipated-review",
   "metadata": {},
   "outputs": [
    {
     "name": "stdout",
     "output_type": "stream",
     "text": [
      "(120, 6)\n",
      "(120,)\n"
     ]
    }
   ],
   "source": [
    "print(X.shape)\n",
    "print(y.shape)"
   ]
  },
  {
   "cell_type": "code",
   "execution_count": 136,
   "id": "needed-elephant",
   "metadata": {},
   "outputs": [],
   "source": [
    "model = LinearRegression()"
   ]
  },
  {
   "cell_type": "code",
   "execution_count": 137,
   "id": "false-cannon",
   "metadata": {},
   "outputs": [
    {
     "data": {
      "text/plain": [
       "LinearRegression()"
      ]
     },
     "execution_count": 137,
     "metadata": {},
     "output_type": "execute_result"
    }
   ],
   "source": [
    "model.fit(X, y)"
   ]
  },
  {
   "cell_type": "code",
   "execution_count": 138,
   "id": "romance-wings",
   "metadata": {},
   "outputs": [
    {
     "name": "stdout",
     "output_type": "stream",
     "text": [
      "coefficient of determination:  0.29387047352253315\n"
     ]
    }
   ],
   "source": [
    "r_sq = model.score(X, y)\n",
    "print('coefficient of determination: ', r_sq)"
   ]
  },
  {
   "cell_type": "code",
   "execution_count": 139,
   "id": "recent-freight",
   "metadata": {},
   "outputs": [
    {
     "name": "stdout",
     "output_type": "stream",
     "text": [
      "predicted response: \n",
      "[ 95.85780336  81.53283311  59.95591377  60.03207724  60.90321852\n",
      "  69.90704805 165.87159167 132.83527367 112.71540086 111.84430186\n",
      " 129.32244423 107.71713377  84.16288468  89.68123882  44.9329957\n",
      "  75.67143284  71.99809377 111.74431159 120.63593547 124.17652391\n",
      " 132.54201444 122.4114029  123.78876184 101.54709539  83.17067007\n",
      "  68.9633975   48.44110435  35.77616853  80.72535459  48.69311612\n",
      " 129.45831951 132.61482464 156.51108644 129.43191027 136.48196886\n",
      " 100.91322232  85.94082934  83.05408977  69.53499947  58.20235216\n",
      "  91.39665386  74.25585158  78.9520964  157.04519091 132.5730532\n",
      " 121.68590988 128.20449953 112.85009977  80.77065859  82.3263546\n",
      "  29.83288529  32.60763766  83.06656361  80.06103391 111.45237689\n",
      " 113.050651   127.50275825 115.52270343 117.60967048 103.46213274\n",
      "  93.10910328  98.72374019  81.38477703  57.54692627  59.43808437\n",
      " 104.75263719 128.91057532 134.41384947 120.81291229 124.95881991\n",
      " 118.99613307 101.74581938  82.90707727  82.10639227  53.63493208\n",
      "  66.49061163  22.39536647  81.40830283 104.95032885 130.35122773\n",
      " 129.73280223 122.26105033 105.46060137  96.34636899  84.86694418\n",
      "  88.27057762  31.24276681  54.73342011  59.49199657 111.51607307\n",
      " 132.76369601 116.79090594 101.08093718 106.24735441 118.92982266\n",
      "  97.69710697  95.3675235   80.22191739  58.92917349  49.06245885\n",
      "  63.97273778 122.06490735 111.7519027  119.61936642 100.3452195\n",
      " 118.86941827 122.72522014 103.08805158  92.18235175  73.08445626\n",
      "  52.31572165  27.69946496  23.87853016 105.110999   128.21726116\n",
      " 157.79756578 111.61990568 121.67031194 118.98604721  99.51951919]\n"
     ]
    }
   ],
   "source": [
    "y_pred = model.predict(X)\n",
    "print('predicted response: ', y_pred, sep='\\n')"
   ]
  },
  {
   "cell_type": "code",
   "execution_count": 140,
   "id": "backed-pottery",
   "metadata": {},
   "outputs": [
    {
     "data": {
      "text/plain": [
       "(120,)"
      ]
     },
     "execution_count": 140,
     "metadata": {},
     "output_type": "execute_result"
    }
   ],
   "source": [
    "y_pred.shape"
   ]
  },
  {
   "cell_type": "code",
   "execution_count": 141,
   "id": "following-newton",
   "metadata": {},
   "outputs": [
    {
     "ename": "ValueError",
     "evalue": "matmul: Input operand 1 has a mismatch in its core dimension 0, with gufunc signature (n?,k),(k,m?)->(n?,m?) (size 6 is different from 11)",
     "output_type": "error",
     "traceback": [
      "\u001b[1;31m---------------------------------------------------------------------------\u001b[0m",
      "\u001b[1;31mValueError\u001b[0m                                Traceback (most recent call last)",
      "\u001b[1;32m<ipython-input-141-39a765d65918>\u001b[0m in \u001b[0;36m<module>\u001b[1;34m\u001b[0m\n\u001b[0;32m      1\u001b[0m \u001b[0mX_new\u001b[0m \u001b[1;33m=\u001b[0m \u001b[1;33m[\u001b[0m\u001b[1;33m[\u001b[0m\u001b[1;36m8\u001b[0m\u001b[1;33m,\u001b[0m \u001b[1;36m9\u001b[0m\u001b[1;33m,\u001b[0m \u001b[1;36m12\u001b[0m\u001b[1;33m,\u001b[0m \u001b[1;36m15\u001b[0m\u001b[1;33m,\u001b[0m \u001b[1;36m19\u001b[0m\u001b[1;33m,\u001b[0m \u001b[1;36m18\u001b[0m\u001b[1;33m,\u001b[0m \u001b[1;36m18\u001b[0m\u001b[1;33m,\u001b[0m \u001b[1;36m18\u001b[0m\u001b[1;33m,\u001b[0m \u001b[1;36m11\u001b[0m\u001b[1;33m,\u001b[0m \u001b[1;36m10\u001b[0m\u001b[1;33m,\u001b[0m \u001b[1;36m8\u001b[0m\u001b[1;33m]\u001b[0m\u001b[1;33m]\u001b[0m\u001b[1;33m\u001b[0m\u001b[1;33m\u001b[0m\u001b[0m\n\u001b[1;32m----> 2\u001b[1;33m \u001b[0my_new\u001b[0m \u001b[1;33m=\u001b[0m \u001b[0mmodel\u001b[0m\u001b[1;33m.\u001b[0m\u001b[0mpredict\u001b[0m\u001b[1;33m(\u001b[0m\u001b[0mX_new\u001b[0m\u001b[1;33m)\u001b[0m\u001b[1;33m\u001b[0m\u001b[1;33m\u001b[0m\u001b[0m\n\u001b[0m\u001b[0;32m      3\u001b[0m \u001b[0mprint\u001b[0m\u001b[1;33m(\u001b[0m\u001b[0my_new\u001b[0m\u001b[1;33m)\u001b[0m\u001b[1;33m\u001b[0m\u001b[1;33m\u001b[0m\u001b[0m\n",
      "\u001b[1;32mc:\\users\\user\\appdata\\local\\programs\\python\\python38\\lib\\site-packages\\sklearn\\linear_model\\_base.py\u001b[0m in \u001b[0;36mpredict\u001b[1;34m(self, X)\u001b[0m\n\u001b[0;32m    236\u001b[0m             \u001b[0mReturns\u001b[0m \u001b[0mpredicted\u001b[0m \u001b[0mvalues\u001b[0m\u001b[1;33m.\u001b[0m\u001b[1;33m\u001b[0m\u001b[1;33m\u001b[0m\u001b[0m\n\u001b[0;32m    237\u001b[0m         \"\"\"\n\u001b[1;32m--> 238\u001b[1;33m         \u001b[1;32mreturn\u001b[0m \u001b[0mself\u001b[0m\u001b[1;33m.\u001b[0m\u001b[0m_decision_function\u001b[0m\u001b[1;33m(\u001b[0m\u001b[0mX\u001b[0m\u001b[1;33m)\u001b[0m\u001b[1;33m\u001b[0m\u001b[1;33m\u001b[0m\u001b[0m\n\u001b[0m\u001b[0;32m    239\u001b[0m \u001b[1;33m\u001b[0m\u001b[0m\n\u001b[0;32m    240\u001b[0m     \u001b[0m_preprocess_data\u001b[0m \u001b[1;33m=\u001b[0m \u001b[0mstaticmethod\u001b[0m\u001b[1;33m(\u001b[0m\u001b[0m_preprocess_data\u001b[0m\u001b[1;33m)\u001b[0m\u001b[1;33m\u001b[0m\u001b[1;33m\u001b[0m\u001b[0m\n",
      "\u001b[1;32mc:\\users\\user\\appdata\\local\\programs\\python\\python38\\lib\\site-packages\\sklearn\\linear_model\\_base.py\u001b[0m in \u001b[0;36m_decision_function\u001b[1;34m(self, X)\u001b[0m\n\u001b[0;32m    219\u001b[0m \u001b[1;33m\u001b[0m\u001b[0m\n\u001b[0;32m    220\u001b[0m         \u001b[0mX\u001b[0m \u001b[1;33m=\u001b[0m \u001b[0mcheck_array\u001b[0m\u001b[1;33m(\u001b[0m\u001b[0mX\u001b[0m\u001b[1;33m,\u001b[0m \u001b[0maccept_sparse\u001b[0m\u001b[1;33m=\u001b[0m\u001b[1;33m[\u001b[0m\u001b[1;34m'csr'\u001b[0m\u001b[1;33m,\u001b[0m \u001b[1;34m'csc'\u001b[0m\u001b[1;33m,\u001b[0m \u001b[1;34m'coo'\u001b[0m\u001b[1;33m]\u001b[0m\u001b[1;33m)\u001b[0m\u001b[1;33m\u001b[0m\u001b[1;33m\u001b[0m\u001b[0m\n\u001b[1;32m--> 221\u001b[1;33m         return safe_sparse_dot(X, self.coef_.T,\n\u001b[0m\u001b[0;32m    222\u001b[0m                                dense_output=True) + self.intercept_\n\u001b[0;32m    223\u001b[0m \u001b[1;33m\u001b[0m\u001b[0m\n",
      "\u001b[1;32mc:\\users\\user\\appdata\\local\\programs\\python\\python38\\lib\\site-packages\\sklearn\\utils\\validation.py\u001b[0m in \u001b[0;36minner_f\u001b[1;34m(*args, **kwargs)\u001b[0m\n\u001b[0;32m     61\u001b[0m             \u001b[0mextra_args\u001b[0m \u001b[1;33m=\u001b[0m \u001b[0mlen\u001b[0m\u001b[1;33m(\u001b[0m\u001b[0margs\u001b[0m\u001b[1;33m)\u001b[0m \u001b[1;33m-\u001b[0m \u001b[0mlen\u001b[0m\u001b[1;33m(\u001b[0m\u001b[0mall_args\u001b[0m\u001b[1;33m)\u001b[0m\u001b[1;33m\u001b[0m\u001b[1;33m\u001b[0m\u001b[0m\n\u001b[0;32m     62\u001b[0m             \u001b[1;32mif\u001b[0m \u001b[0mextra_args\u001b[0m \u001b[1;33m<=\u001b[0m \u001b[1;36m0\u001b[0m\u001b[1;33m:\u001b[0m\u001b[1;33m\u001b[0m\u001b[1;33m\u001b[0m\u001b[0m\n\u001b[1;32m---> 63\u001b[1;33m                 \u001b[1;32mreturn\u001b[0m \u001b[0mf\u001b[0m\u001b[1;33m(\u001b[0m\u001b[1;33m*\u001b[0m\u001b[0margs\u001b[0m\u001b[1;33m,\u001b[0m \u001b[1;33m**\u001b[0m\u001b[0mkwargs\u001b[0m\u001b[1;33m)\u001b[0m\u001b[1;33m\u001b[0m\u001b[1;33m\u001b[0m\u001b[0m\n\u001b[0m\u001b[0;32m     64\u001b[0m \u001b[1;33m\u001b[0m\u001b[0m\n\u001b[0;32m     65\u001b[0m             \u001b[1;31m# extra_args > 0\u001b[0m\u001b[1;33m\u001b[0m\u001b[1;33m\u001b[0m\u001b[1;33m\u001b[0m\u001b[0m\n",
      "\u001b[1;32mc:\\users\\user\\appdata\\local\\programs\\python\\python38\\lib\\site-packages\\sklearn\\utils\\extmath.py\u001b[0m in \u001b[0;36msafe_sparse_dot\u001b[1;34m(a, b, dense_output)\u001b[0m\n\u001b[0;32m    150\u001b[0m             \u001b[0mret\u001b[0m \u001b[1;33m=\u001b[0m \u001b[0mnp\u001b[0m\u001b[1;33m.\u001b[0m\u001b[0mdot\u001b[0m\u001b[1;33m(\u001b[0m\u001b[0ma\u001b[0m\u001b[1;33m,\u001b[0m \u001b[0mb\u001b[0m\u001b[1;33m)\u001b[0m\u001b[1;33m\u001b[0m\u001b[1;33m\u001b[0m\u001b[0m\n\u001b[0;32m    151\u001b[0m     \u001b[1;32melse\u001b[0m\u001b[1;33m:\u001b[0m\u001b[1;33m\u001b[0m\u001b[1;33m\u001b[0m\u001b[0m\n\u001b[1;32m--> 152\u001b[1;33m         \u001b[0mret\u001b[0m \u001b[1;33m=\u001b[0m \u001b[0ma\u001b[0m \u001b[1;33m@\u001b[0m \u001b[0mb\u001b[0m\u001b[1;33m\u001b[0m\u001b[1;33m\u001b[0m\u001b[0m\n\u001b[0m\u001b[0;32m    153\u001b[0m \u001b[1;33m\u001b[0m\u001b[0m\n\u001b[0;32m    154\u001b[0m     if (sparse.issparse(a) and sparse.issparse(b)\n",
      "\u001b[1;31mValueError\u001b[0m: matmul: Input operand 1 has a mismatch in its core dimension 0, with gufunc signature (n?,k),(k,m?)->(n?,m?) (size 6 is different from 11)"
     ]
    }
   ],
   "source": [
    "X_new = [[8, 9, 12, 15, 19, 18, 18, 18, 11, 10, 8]]\n",
    "y_new = model.predict(X_new)\n",
    "print(y_new)"
   ]
  },
  {
   "cell_type": "code",
   "execution_count": 87,
   "id": "facial-darkness",
   "metadata": {},
   "outputs": [
    {
     "name": "stdout",
     "output_type": "stream",
     "text": [
      "(10, 1)\n",
      "(10,)\n",
      "10\n"
     ]
    }
   ],
   "source": [
    "X1 = dataset.iloc[:, 1:2].values #All rows, all columns excluding the last column indexed -1\n",
    "print(X1.shape)\n",
    "print(y.shape)\n",
    "print(X1.size)"
   ]
  },
  {
   "cell_type": "code",
   "execution_count": 81,
   "id": "neither-surfing",
   "metadata": {},
   "outputs": [
    {
     "data": {
      "text/plain": [
       "list"
      ]
     },
     "execution_count": 81,
     "metadata": {},
     "output_type": "execute_result"
    }
   ],
   "source": [
    "X1 = [8.1, 8.3, 7.5, 8.4, 8.2, 7.4, 7.2, 7.8, 8.1, 8.9]\n",
    "type(X1)"
   ]
  },
  {
   "cell_type": "code",
   "execution_count": 88,
   "id": "floral-marketing",
   "metadata": {},
   "outputs": [
    {
     "data": {
      "text/plain": [
       "10"
      ]
     },
     "execution_count": 88,
     "metadata": {},
     "output_type": "execute_result"
    }
   ],
   "source": [
    "y.size"
   ]
  },
  {
   "cell_type": "code",
   "execution_count": 142,
   "id": "understanding-shanghai",
   "metadata": {},
   "outputs": [
    {
     "name": "stdout",
     "output_type": "stream",
     "text": [
      "Mean Absolute Error: 36.31724399499102\n",
      "Mean Squared Error: 2342.8018266591953\n",
      "Root Mean Squared Error: 48.40249814481888\n"
     ]
    }
   ],
   "source": [
    "from sklearn import metrics\n",
    "\n",
    "print('Mean Absolute Error:', metrics.mean_absolute_error(y, y_pred))  \n",
    "print('Mean Squared Error:', metrics.mean_squared_error(y, y_pred))  \n",
    "print('Root Mean Squared Error:', np.sqrt(metrics.mean_squared_error(y, y_pred)))"
   ]
  },
  {
   "cell_type": "code",
   "execution_count": null,
   "id": "mechanical-hudson",
   "metadata": {},
   "outputs": [],
   "source": []
  }
 ],
 "metadata": {
  "kernelspec": {
   "display_name": "Python 3",
   "language": "python",
   "name": "python3"
  },
  "language_info": {
   "codemirror_mode": {
    "name": "ipython",
    "version": 3
   },
   "file_extension": ".py",
   "mimetype": "text/x-python",
   "name": "python",
   "nbconvert_exporter": "python",
   "pygments_lexer": "ipython3",
   "version": "3.8.8"
  }
 },
 "nbformat": 4,
 "nbformat_minor": 5
}
