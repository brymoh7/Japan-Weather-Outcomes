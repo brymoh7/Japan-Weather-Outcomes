{
 "cells": [
  {
   "cell_type": "code",
   "execution_count": 1,
   "id": "documented-bolivia",
   "metadata": {},
   "outputs": [],
   "source": [
    "#import needed libraries\n",
    "import numpy as np #for numerical operations\n",
    "import pandas as pd #for file operations\n",
    "import matplotlib.pyplot as plt #for plotting graphs\n",
    "import seaborn as sns #also for plotting graphs\n",
    "from sklearn.linear_model import LinearRegression #for machine learning \n",
    "from sklearn import metrics #for testing the machine learning model"
   ]
  },
  {
   "cell_type": "code",
   "execution_count": 2,
   "id": "built-interim",
   "metadata": {},
   "outputs": [],
   "source": [
    "# Importing the dataset\n",
    "dataset = pd.read_csv('total-precipitation-Japanweather1.csv')"
   ]
  },
  {
   "cell_type": "code",
   "execution_count": 3,
   "id": "higher-collins",
   "metadata": {},
   "outputs": [
    {
     "data": {
      "text/html": [
       "<div>\n",
       "<style scoped>\n",
       "    .dataframe tbody tr th:only-of-type {\n",
       "        vertical-align: middle;\n",
       "    }\n",
       "\n",
       "    .dataframe tbody tr th {\n",
       "        vertical-align: top;\n",
       "    }\n",
       "\n",
       "    .dataframe thead th {\n",
       "        text-align: right;\n",
       "    }\n",
       "</style>\n",
       "<table border=\"1\" class=\"dataframe\">\n",
       "  <thead>\n",
       "    <tr style=\"text-align: right;\">\n",
       "      <th></th>\n",
       "      <th>year</th>\n",
       "      <th>solar_radiation</th>\n",
       "      <th>mean_air_temperature</th>\n",
       "      <th>mean_wind_speed</th>\n",
       "      <th>mean_relative_humidity</th>\n",
       "      <th>percentage_possible_sunshine</th>\n",
       "      <th>total_sunshine_duration</th>\n",
       "      <th>total_precipitation</th>\n",
       "    </tr>\n",
       "  </thead>\n",
       "  <tbody>\n",
       "    <tr>\n",
       "      <th>0</th>\n",
       "      <td>Jan-10</td>\n",
       "      <td>8.1</td>\n",
       "      <td>-3.4</td>\n",
       "      <td>5.5</td>\n",
       "      <td>75</td>\n",
       "      <td>14</td>\n",
       "      <td>40.4</td>\n",
       "      <td>75.5</td>\n",
       "    </tr>\n",
       "    <tr>\n",
       "      <th>1</th>\n",
       "      <td>Feb-10</td>\n",
       "      <td>9.1</td>\n",
       "      <td>-4.9</td>\n",
       "      <td>4.1</td>\n",
       "      <td>74</td>\n",
       "      <td>17</td>\n",
       "      <td>48.8</td>\n",
       "      <td>109.5</td>\n",
       "    </tr>\n",
       "    <tr>\n",
       "      <th>2</th>\n",
       "      <td>Mar-10</td>\n",
       "      <td>12.2</td>\n",
       "      <td>-1.4</td>\n",
       "      <td>4.7</td>\n",
       "      <td>68</td>\n",
       "      <td>29</td>\n",
       "      <td>108.0</td>\n",
       "      <td>100.5</td>\n",
       "    </tr>\n",
       "    <tr>\n",
       "      <th>3</th>\n",
       "      <td>Apr-10</td>\n",
       "      <td>14.5</td>\n",
       "      <td>3.5</td>\n",
       "      <td>4.3</td>\n",
       "      <td>77</td>\n",
       "      <td>36</td>\n",
       "      <td>146.2</td>\n",
       "      <td>94.0</td>\n",
       "    </tr>\n",
       "    <tr>\n",
       "      <th>4</th>\n",
       "      <td>May-10</td>\n",
       "      <td>19.2</td>\n",
       "      <td>7.3</td>\n",
       "      <td>4.9</td>\n",
       "      <td>86</td>\n",
       "      <td>37</td>\n",
       "      <td>168.6</td>\n",
       "      <td>76.5</td>\n",
       "    </tr>\n",
       "  </tbody>\n",
       "</table>\n",
       "</div>"
      ],
      "text/plain": [
       "     year  solar_radiation  mean_air_temperature  mean_wind_speed  \\\n",
       "0  Jan-10              8.1                  -3.4              5.5   \n",
       "1  Feb-10              9.1                  -4.9              4.1   \n",
       "2  Mar-10             12.2                  -1.4              4.7   \n",
       "3  Apr-10             14.5                   3.5              4.3   \n",
       "4  May-10             19.2                   7.3              4.9   \n",
       "\n",
       "   mean_relative_humidity  percentage_possible_sunshine  \\\n",
       "0                      75                            14   \n",
       "1                      74                            17   \n",
       "2                      68                            29   \n",
       "3                      77                            36   \n",
       "4                      86                            37   \n",
       "\n",
       "   total_sunshine_duration  total_precipitation  \n",
       "0                     40.4                 75.5  \n",
       "1                     48.8                109.5  \n",
       "2                    108.0                100.5  \n",
       "3                    146.2                 94.0  \n",
       "4                    168.6                 76.5  "
      ]
     },
     "execution_count": 3,
     "metadata": {},
     "output_type": "execute_result"
    }
   ],
   "source": [
    "dataset.head() #show the first 5 rows of the dataset"
   ]
  },
  {
   "cell_type": "code",
   "execution_count": 4,
   "id": "premier-theme",
   "metadata": {},
   "outputs": [],
   "source": [
    "X = dataset.iloc[:, 1:-1].values #select All rows, all columns excluding the first and the last column\n",
    "y = dataset.iloc[:, -1].values #select All rows, last column\n",
    "\n",
    "#dates = X[:,0]\n",
    "dates = dataset.iloc[:,0] #store the dates from the dataset (first column) in a variable, to be used when plotting graphs"
   ]
  },
  {
   "cell_type": "code",
   "execution_count": 5,
   "id": "derived-pocket",
   "metadata": {},
   "outputs": [
    {
     "data": {
      "text/plain": [
       "LinearRegression()"
      ]
     },
     "execution_count": 5,
     "metadata": {},
     "output_type": "execute_result"
    }
   ],
   "source": [
    "#train a linear regression model on the data\n",
    "model = LinearRegression()\n",
    "model.fit(X, y)"
   ]
  },
  {
   "cell_type": "code",
   "execution_count": 6,
   "id": "alternative-anatomy",
   "metadata": {},
   "outputs": [
    {
     "name": "stdout",
     "output_type": "stream",
     "text": [
      "coefficient of determination:  0.29387047352253315\n"
     ]
    }
   ],
   "source": [
    "#find the coefficient of determination to see how well the model performs\n",
    "r_sq = model.score(X, y)\n",
    "print('coefficient of determination: ', r_sq)"
   ]
  },
  {
   "cell_type": "code",
   "execution_count": 7,
   "id": "humanitarian-amendment",
   "metadata": {},
   "outputs": [
    {
     "name": "stdout",
     "output_type": "stream",
     "text": [
      "predicted response: \n",
      "[ 95.85780336  81.53283311  59.95591377  60.03207724  60.90321852\n",
      "  69.90704805 165.87159167 132.83527367 112.71540086 111.84430186\n",
      " 129.32244423 107.71713377  84.16288468  89.68123882  44.9329957\n",
      "  75.67143284  71.99809377 111.74431159 120.63593547 124.17652391\n",
      " 132.54201444 122.4114029  123.78876184 101.54709539  83.17067007\n",
      "  68.9633975   48.44110435  35.77616853  80.72535459  48.69311612\n",
      " 129.45831951 132.61482464 156.51108644 129.43191027 136.48196886\n",
      " 100.91322232  85.94082934  83.05408977  69.53499947  58.20235216\n",
      "  91.39665386  74.25585158  78.9520964  157.04519091 132.5730532\n",
      " 121.68590988 128.20449953 112.85009977  80.77065859  82.3263546\n",
      "  29.83288529  32.60763766  83.06656361  80.06103391 111.45237689\n",
      " 113.050651   127.50275825 115.52270343 117.60967048 103.46213274\n",
      "  93.10910328  98.72374019  81.38477703  57.54692627  59.43808437\n",
      " 104.75263719 128.91057532 134.41384947 120.81291229 124.95881991\n",
      " 118.99613307 101.74581938  82.90707727  82.10639227  53.63493208\n",
      "  66.49061163  22.39536647  81.40830283 104.95032885 130.35122773\n",
      " 129.73280223 122.26105033 105.46060137  96.34636899  84.86694418\n",
      "  88.27057762  31.24276681  54.73342011  59.49199657 111.51607307\n",
      " 132.76369601 116.79090594 101.08093718 106.24735441 118.92982266\n",
      "  97.69710697  95.3675235   80.22191739  58.92917349  49.06245885\n",
      "  63.97273778 122.06490735 111.7519027  119.61936642 100.3452195\n",
      " 118.86941827 122.72522014 103.08805158  92.18235175  73.08445626\n",
      "  52.31572165  27.69946496  23.87853016 105.110999   128.21726116\n",
      " 157.79756578 111.61990568 121.67031194 118.98604721  99.51951919]\n"
     ]
    }
   ],
   "source": [
    "y_pred = model.predict(X) #using the trained model, try to predict outcomes\n",
    "print('predicted response: ', y_pred, sep='\\n') #display predictions"
   ]
  },
  {
   "cell_type": "code",
   "execution_count": 8,
   "id": "joined-surface",
   "metadata": {},
   "outputs": [
    {
     "name": "stdout",
     "output_type": "stream",
     "text": [
      "Mean Absolute Error: 36.31724399499102\n",
      "Mean Squared Error: 2342.8018266591953\n",
      "Root Mean Squared Error: 48.40249814481888\n"
     ]
    }
   ],
   "source": [
    "#model evauluation metrics\n",
    "print('Mean Absolute Error:', metrics.mean_absolute_error(y, y_pred))  \n",
    "print('Mean Squared Error:', metrics.mean_squared_error(y, y_pred))  \n",
    "print('Root Mean Squared Error:', np.sqrt(metrics.mean_squared_error(y, y_pred)))"
   ]
  },
  {
   "cell_type": "code",
   "execution_count": 9,
   "id": "aquatic-picking",
   "metadata": {},
   "outputs": [
    {
     "data": {
      "text/plain": [
       "Text(0.5, 1.0, 'Total precipitation - actual and predicted values')"
      ]
     },
     "execution_count": 9,
     "metadata": {},
     "output_type": "execute_result"
    },
    {
     "data": {
      "image/png": "[encoded data removed]",
      "text/plain": [
       "<Figure size 720x360 with 1 Axes>"
      ]
     },
     "metadata": {
      "needs_background": "light"
     },
     "output_type": "display_data"
    }
   ],
   "source": [
    "df = pd.DataFrame(dict(actual_values=y[-13:-1], predicted_values=y_pred[-13:-1]), index=dates[-13:-1]) #create a dataframe containing the last 12 actual and predicted values with the month and year as the index of the dataframe\n",
    "g = sns.relplot(kind=\"line\", data=df) #plot a line graph using the dataframe\n",
    "g.fig.autofmt_xdate() #adjust the size of the x-axis so the dates have some spacing\n",
    "g.fig.set_size_inches(10, 5) #set the size of the figure\n",
    "plt.xlabel('Dates') #set the label for the x-axis\n",
    "plt.ylabel('Total precipitation') #set the label for the y-axis\n",
    "plt.title('Total precipitation - actual and predicted values') #set the title of the graph"
   ]
  },
  {
   "cell_type": "code",
   "execution_count": null,
   "id": "fancy-fleet",
   "metadata": {},
   "outputs": [],
   "source": []
  }
 ],
 "metadata": {
  "kernelspec": {
   "display_name": "Python 3",
   "language": "python",
   "name": "python3"
  },
  "language_info": {
   "codemirror_mode": {
    "name": "ipython",
    "version": 3
   },
   "file_extension": ".py",
   "mimetype": "text/x-python",
   "name": "python",
   "nbconvert_exporter": "python",
   "pygments_lexer": "ipython3",
   "version": "3.8.8"
  }
 },
 "nbformat": 4,
 "nbformat_minor": 5
}
