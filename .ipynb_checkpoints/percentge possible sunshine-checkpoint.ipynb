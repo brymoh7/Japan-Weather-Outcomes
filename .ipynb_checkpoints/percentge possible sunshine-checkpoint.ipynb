{
 "cells": [
  {
   "cell_type": "code",
   "execution_count": 1,
   "metadata": {},
   "outputs": [],
   "source": [
    "import numpy as np\n",
    "import pandas as pd\n",
    "import matplotlib.pyplot as plt\n",
    "from sklearn.linear_model import LinearRegression\n",
    "import statsmodels.api as sm"
   ]
  },
  {
   "cell_type": "code",
   "execution_count": 3,
   "metadata": {},
   "outputs": [],
   "source": [
    "# Importing the dataset\n",
    "dataset = pd.read_csv('percentage-possible-sunshine-Japanweather1.csv')"
   ]
  },
  {
   "cell_type": "code",
   "execution_count": 4,
   "metadata": {},
   "outputs": [
    {
     "data": {
      "text/html": [
       "<div>\n",
       "<style scoped>\n",
       "    .dataframe tbody tr th:only-of-type {\n",
       "        vertical-align: middle;\n",
       "    }\n",
       "\n",
       "    .dataframe tbody tr th {\n",
       "        vertical-align: top;\n",
       "    }\n",
       "\n",
       "    .dataframe thead th {\n",
       "        text-align: right;\n",
       "    }\n",
       "</style>\n",
       "<table border=\"1\" class=\"dataframe\">\n",
       "  <thead>\n",
       "    <tr style=\"text-align: right;\">\n",
       "      <th></th>\n",
       "      <th>year</th>\n",
       "      <th>total_precipitation</th>\n",
       "      <th>mean_air_temperature</th>\n",
       "      <th>mean_wind_speed</th>\n",
       "      <th>mean_relative_humidity</th>\n",
       "      <th>total_sunshine_duration</th>\n",
       "      <th>solar_radiation</th>\n",
       "      <th>percentage_possible_sunshine</th>\n",
       "    </tr>\n",
       "  </thead>\n",
       "  <tbody>\n",
       "    <tr>\n",
       "      <th>0</th>\n",
       "      <td>Jan-10</td>\n",
       "      <td>75.5</td>\n",
       "      <td>-3.4</td>\n",
       "      <td>5.5</td>\n",
       "      <td>75</td>\n",
       "      <td>40.4</td>\n",
       "      <td>8.1</td>\n",
       "      <td>14</td>\n",
       "    </tr>\n",
       "    <tr>\n",
       "      <th>1</th>\n",
       "      <td>Feb-10</td>\n",
       "      <td>109.5</td>\n",
       "      <td>-4.9</td>\n",
       "      <td>4.1</td>\n",
       "      <td>74</td>\n",
       "      <td>48.8</td>\n",
       "      <td>9.1</td>\n",
       "      <td>17</td>\n",
       "    </tr>\n",
       "    <tr>\n",
       "      <th>2</th>\n",
       "      <td>Mar-10</td>\n",
       "      <td>100.5</td>\n",
       "      <td>-1.4</td>\n",
       "      <td>4.7</td>\n",
       "      <td>68</td>\n",
       "      <td>108.0</td>\n",
       "      <td>12.2</td>\n",
       "      <td>29</td>\n",
       "    </tr>\n",
       "    <tr>\n",
       "      <th>3</th>\n",
       "      <td>Apr-10</td>\n",
       "      <td>94.0</td>\n",
       "      <td>3.5</td>\n",
       "      <td>4.3</td>\n",
       "      <td>77</td>\n",
       "      <td>146.2</td>\n",
       "      <td>14.5</td>\n",
       "      <td>36</td>\n",
       "    </tr>\n",
       "    <tr>\n",
       "      <th>4</th>\n",
       "      <td>May-10</td>\n",
       "      <td>76.5</td>\n",
       "      <td>7.3</td>\n",
       "      <td>4.9</td>\n",
       "      <td>86</td>\n",
       "      <td>168.6</td>\n",
       "      <td>19.2</td>\n",
       "      <td>37</td>\n",
       "    </tr>\n",
       "  </tbody>\n",
       "</table>\n",
       "</div>"
      ],
      "text/plain": [
       "     year  total_precipitation  mean_air_temperature  mean_wind_speed  \\\n",
       "0  Jan-10                 75.5                  -3.4              5.5   \n",
       "1  Feb-10                109.5                  -4.9              4.1   \n",
       "2  Mar-10                100.5                  -1.4              4.7   \n",
       "3  Apr-10                 94.0                   3.5              4.3   \n",
       "4  May-10                 76.5                   7.3              4.9   \n",
       "\n",
       "   mean_relative_humidity  total_sunshine_duration  solar_radiation  \\\n",
       "0                      75                     40.4              8.1   \n",
       "1                      74                     48.8              9.1   \n",
       "2                      68                    108.0             12.2   \n",
       "3                      77                    146.2             14.5   \n",
       "4                      86                    168.6             19.2   \n",
       "\n",
       "   percentage_possible_sunshine  \n",
       "0                            14  \n",
       "1                            17  \n",
       "2                            29  \n",
       "3                            36  \n",
       "4                            37  "
      ]
     },
     "execution_count": 4,
     "metadata": {},
     "output_type": "execute_result"
    }
   ],
   "source": [
    "dataset.head()"
   ]
  },
  {
   "cell_type": "code",
   "execution_count": 5,
   "metadata": {},
   "outputs": [],
   "source": [
    "X = dataset.iloc[:, 1:-1].values #All rows, all columns excluding the last column indexed -1\n",
    "y = dataset.iloc[:, -1].values #All rows, last column\n"
   ]
  },
  {
   "cell_type": "code",
   "execution_count": 6,
   "metadata": {},
   "outputs": [
    {
     "name": "stdout",
     "output_type": "stream",
     "text": [
      "(120, 6)\n",
      "(120,)\n"
     ]
    }
   ],
   "source": [
    "print(X.shape)\n",
    "print(y.shape)"
   ]
  },
  {
   "cell_type": "code",
   "execution_count": 7,
   "metadata": {},
   "outputs": [],
   "source": [
    "model = LinearRegression()"
   ]
  },
  {
   "cell_type": "code",
   "execution_count": 8,
   "metadata": {},
   "outputs": [
    {
     "data": {
      "text/plain": [
       "LinearRegression()"
      ]
     },
     "execution_count": 8,
     "metadata": {},
     "output_type": "execute_result"
    }
   ],
   "source": [
    "model.fit(X, y)"
   ]
  },
  {
   "cell_type": "code",
   "execution_count": 9,
   "metadata": {},
   "outputs": [
    {
     "name": "stdout",
     "output_type": "stream",
     "text": [
      "coefficient of determination:  0.9670959915128634\n"
     ]
    }
   ],
   "source": [
    "r_sq = model.score(X, y)\n",
    "print('coefficient of determination: ', r_sq)"
   ]
  },
  {
   "cell_type": "code",
   "execution_count": 11,
   "metadata": {},
   "outputs": [
    {
     "name": "stdout",
     "output_type": "stream",
     "text": [
      "predicted response: \n",
      "[13.5334085  16.43185768 31.13263238 36.75247251 36.77196193 45.38689074\n",
      " 12.9557872  38.42299489 54.32121214 42.75692284 20.15655537 11.90883157\n",
      " 17.71007528 24.81288793 41.12787877 33.66353831 30.05221612 24.13289912\n",
      " 28.61861638 40.01900039 43.34401481 39.46685735 25.62069489 13.73163011\n",
      " 15.46192876 23.62374111 36.06420672 50.15420528 31.59197126 49.56240292\n",
      " 25.58370268 34.16381475 29.84456222 34.88970115 12.27596857  9.54181335\n",
      " 14.11011328 18.885339   27.02827657 40.98108747 22.99594932 42.19147663\n",
      " 49.95122594 24.02423974 38.85093295 39.42832053 23.97889146 13.83166849\n",
      " 17.03372883 28.07279971 50.58342702 52.30186887 30.79170554 41.6694217\n",
      " 36.32283483 44.86164972 40.49791666 40.90510493 31.51252442 13.22520284\n",
      " 18.01307502 23.64068113 29.49992275 44.88920016 43.05066675 27.78585352\n",
      " 28.8774497  31.74627692 44.42859329 35.16965171 27.35348724 19.93925517\n",
      " 13.41939429 13.29075854 39.07445126 36.31880548 61.36159421 37.86229633\n",
      " 37.45310712 38.64025488 40.94403599 30.43134897 13.53173135 16.6686195\n",
      " 16.92459328 18.08089003 49.82408473 45.13602881 43.36236519 24.30878872\n",
      " 27.61125962 40.06538042 55.10700819 43.96103701 16.7957303  13.10562193\n",
      " 10.53986212 16.98539153 37.04249834 48.89539875 39.49729647 22.59248178\n",
      " 33.14089923 36.67742036 56.91908858 43.56360535 20.01163582 11.40457905\n",
      " 13.37968055 28.17090764 39.18261829 56.83736392 61.77004178 30.18321518\n",
      " 28.10712192 20.50771222 52.81584339 41.24382684 16.32265411 11.90999483]\n"
     ]
    }
   ],
   "source": [
    "y_pred = model.predict(X)\n",
    "print('predicted response: ', y_pred, sep='\\n')"
   ]
  },
  {
   "cell_type": "code",
   "execution_count": 12,
   "metadata": {},
   "outputs": [
    {
     "data": {
      "text/plain": [
       "(120,)"
      ]
     },
     "execution_count": 12,
     "metadata": {},
     "output_type": "execute_result"
    }
   ],
   "source": [
    "y_pred.shape"
   ]
  },
  {
   "cell_type": "code",
   "execution_count": 13,
   "metadata": {},
   "outputs": [
    {
     "name": "stdout",
     "output_type": "stream",
     "text": [
      "Mean Absolute Error: 1.8771239514168612\n",
      "Mean Squared Error: 5.746079557122209\n",
      "Root Mean Squared Error: 2.397098153418464\n"
     ]
    }
   ],
   "source": [
    "from sklearn import metrics\n",
    "\n",
    "print('Mean Absolute Error:', metrics.mean_absolute_error(y, y_pred))  \n",
    "print('Mean Squared Error:', metrics.mean_squared_error(y, y_pred))  \n",
    "print('Root Mean Squared Error:', np.sqrt(metrics.mean_squared_error(y, y_pred)))"
   ]
  },
  {
   "cell_type": "code",
   "execution_count": null,
   "metadata": {},
   "outputs": [],
   "source": []
  }
 ],
 "metadata": {
  "kernelspec": {
   "display_name": "Python 3",
   "language": "python",
   "name": "python3"
  },
  "language_info": {
   "codemirror_mode": {
    "name": "ipython",
    "version": 3
   },
   "file_extension": ".py",
   "mimetype": "text/x-python",
   "name": "python",
   "nbconvert_exporter": "python",
   "pygments_lexer": "ipython3",
   "version": "3.8.5"
  }
 },
 "nbformat": 4,
 "nbformat_minor": 5
}
